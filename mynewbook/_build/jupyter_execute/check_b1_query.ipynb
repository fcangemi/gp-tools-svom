{
 "cells": [
  {
   "cell_type": "markdown",
   "id": "6c7ce535-51c2-45ea-95d8-5098511e3749",
   "metadata": {
    "tags": []
   },
   "source": [
    "# Check B1 law"
   ]
  },
  {
   "cell_type": "code",
   "execution_count": 1,
   "id": "32dacbbe-3e95-4b5a-be7a-285dd4312583",
   "metadata": {},
   "outputs": [],
   "source": [
    "from astroquery.simbad import Simbad\n",
    "from astroquery.vizier import Vizier\n",
    "from astroquery.ipac.ned import Ned\n",
    "from astropy.coordinates import SkyCoord, Galactic\n",
    "import astropy.units as u\n",
    "import matplotlib.pyplot as plt\n",
    "import numpy as np\n",
    "import warnings\n",
    "warnings.filterwarnings('ignore')"
   ]
  },
  {
   "cell_type": "code",
   "execution_count": 2,
   "id": "66dce995-eee9-4f61-b7c2-63b3129d00a0",
   "metadata": {
    "tags": []
   },
   "outputs": [],
   "source": [
    "def which_source(source):\n",
    "    result_table = Simbad.query_object(source)\n",
    "    if(result_table == None):\n",
    "        print(\"Unable to find\", source.rstrip(\"\\n\"), \", please enter the source coordinates:\")\n",
    "        ra = float(input(\"ra (degrees):\"))\n",
    "        dec = float(input(\"dec (degrees):\"))\n",
    "    else:\n",
    "        ra = result_table[\"RA\"]\n",
    "        dec = result_table[\"DEC\"]\n",
    "    return source, ra, dec\n",
    "\n",
    "def read_B1():\n",
    "    b1_law = np.genfromtxt(\"B1_law.txt\", unpack = True)\n",
    "    b1_ras = b1_law[1]\n",
    "    b1_decs = b1_law[2]\n",
    "    return b1_ras, b1_decs\n",
    "\n",
    "def check_inB1_name(source):\n",
    "    source, ra_source, dec_source = which_source(source)\n",
    "    b1_ras, b1_decs = read_B1()\n",
    "    c_source = SkyCoord(ra_source, dec_source, frame = \"icrs\", unit = (u.hourangle, u.deg))\n",
    "    count = 0\n",
    "    all_sep = []\n",
    "    for b1_ra, b1_dec in zip(b1_ras, b1_decs):\n",
    "        c_b1 = SkyCoord(b1_ra, b1_dec, frame = \"icrs\", unit = \"deg\")\n",
    "        sep = c_source.separation(c_b1)\n",
    "        all_sep.append(sep.value)\n",
    "        \n",
    "        if sep.value <= 10:\n",
    "            count += 1\n",
    "        else:\n",
    "            continue\n",
    "\n",
    "    if count == 0:\n",
    "        print(source.rstrip('\\n'), \"is not in B1 law, minimal separation from closest B1 pointing =\", min(all_sep)*u.degree)\n",
    "    else:\n",
    "        print(source.rstrip('\\n'), \"is in B1 law\")\n",
    "\n",
    "def check_inB1_list(list_of_sources_file):\n",
    "    list_of_source = open(list_of_sources_file, \"r\")\n",
    "    \n",
    "    for source in list_of_source:\n",
    "        check_inB1_name(source)"
   ]
  },
  {
   "cell_type": "markdown",
   "id": "13fbe9ee-400e-4397-9141-9131dc0145d7",
   "metadata": {},
   "source": [
    "#### The purpose of this notebook is to check whether a source is in B1 law or not.\n",
    "\n",
    "The code uses the source name to search its coordinates in the SIMBAD catalog. If the source is not found, the user can enter the coordinates manually."
   ]
  },
  {
   "cell_type": "markdown",
   "id": "0c93d229-7c75-44e3-b8e3-f4bd3f23bc5d",
   "metadata": {
    "tags": []
   },
   "source": [
    "##### Using the source name"
   ]
  },
  {
   "cell_type": "code",
   "execution_count": 3,
   "id": "71a6109f-3fe9-4206-ac63-ad26f6770799",
   "metadata": {},
   "outputs": [
    {
     "name": "stdout",
     "output_type": "stream",
     "text": [
      "Cygnus X-1 is not in B1 law, minimal separation from closest B1 pointing = [62.11449208] deg\n"
     ]
    }
   ],
   "source": [
    "check_inB1_name(\"Cygnus X-1\")"
   ]
  },
  {
   "cell_type": "markdown",
   "id": "c1bb38e1-f476-49ea-b6f1-06ba4fee1a53",
   "metadata": {},
   "source": [
    "##### Using a list of sources"
   ]
  },
  {
   "cell_type": "code",
   "execution_count": 4,
   "id": "6fc8195c-5056-4b20-a939-3e8cdca0c740",
   "metadata": {},
   "outputs": [
    {
     "name": "stdout",
     "output_type": "stream",
     "text": [
      "Mrk 501  is not in B1 law, minimal separation from closest B1 pointing = [27.62596468] deg\n"
     ]
    },
    {
     "name": "stdout",
     "output_type": "stream",
     "text": [
      "Mrk 421 is in B1 law\n"
     ]
    },
    {
     "name": "stdout",
     "output_type": "stream",
     "text": [
      "1ES 1959+650 is not in B1 law, minimal separation from closest B1 pointing = [58.38624248] deg\n"
     ]
    },
    {
     "name": "stdout",
     "output_type": "stream",
     "text": [
      "1ES 2344+514 is not in B1 law, minimal separation from closest B1 pointing = [47.73709681] deg\n"
     ]
    },
    {
     "name": "stdout",
     "output_type": "stream",
     "text": [
      "M87 is in B1 law\n"
     ]
    },
    {
     "name": "stdout",
     "output_type": "stream",
     "text": [
      "PG 1553+113 is not in B1 law, minimal separation from closest B1 pointing = [21.05383455] deg\n"
     ]
    },
    {
     "name": "stdout",
     "output_type": "stream",
     "text": [
      "NGC 1246 is not in B1 law, minimal separation from closest B1 pointing = [37.30023443] deg\n"
     ]
    },
    {
     "name": "stdout",
     "output_type": "stream",
     "text": [
      "IC 310 is not in B1 law, minimal separation from closest B1 pointing = [48.45962333] deg\n"
     ]
    },
    {
     "name": "stdout",
     "output_type": "stream",
     "text": [
      "1ES 1011+496 is not in B1 law, minimal separation from closest B1 pointing = [17.64474591] deg\n",
      "Unable to find 1ES 1218+308 , please enter the source coordinates:\n"
     ]
    },
    {
     "ename": "StdinNotImplementedError",
     "evalue": "raw_input was called, but this frontend does not support input requests.",
     "output_type": "error",
     "traceback": [
      "\u001b[0;31m---------------------------------------------------------------------------\u001b[0m",
      "\u001b[0;31mStdinNotImplementedError\u001b[0m                  Traceback (most recent call last)",
      "\u001b[0;32m/var/folders/cf/lj06vg8d24d6_0gnzr5lh2d40000gn/T/ipykernel_18358/2803840755.py\u001b[0m in \u001b[0;36m<module>\u001b[0;34m\u001b[0m\n\u001b[0;32m----> 1\u001b[0;31m \u001b[0mcheck_inB1_list\u001b[0m\u001b[0;34m(\u001b[0m\u001b[0;34m\"sources.lst\"\u001b[0m\u001b[0;34m)\u001b[0m\u001b[0;34m\u001b[0m\u001b[0;34m\u001b[0m\u001b[0m\n\u001b[0m",
      "\u001b[0;32m/var/folders/cf/lj06vg8d24d6_0gnzr5lh2d40000gn/T/ipykernel_18358/2369516278.py\u001b[0m in \u001b[0;36mcheck_inB1_list\u001b[0;34m(list_of_sources_file)\u001b[0m\n\u001b[1;32m     41\u001b[0m \u001b[0;34m\u001b[0m\u001b[0m\n\u001b[1;32m     42\u001b[0m     \u001b[0;32mfor\u001b[0m \u001b[0msource\u001b[0m \u001b[0;32min\u001b[0m \u001b[0mlist_of_source\u001b[0m\u001b[0;34m:\u001b[0m\u001b[0;34m\u001b[0m\u001b[0;34m\u001b[0m\u001b[0m\n\u001b[0;32m---> 43\u001b[0;31m         \u001b[0mcheck_inB1_name\u001b[0m\u001b[0;34m(\u001b[0m\u001b[0msource\u001b[0m\u001b[0;34m)\u001b[0m\u001b[0;34m\u001b[0m\u001b[0;34m\u001b[0m\u001b[0m\n\u001b[0m",
      "\u001b[0;32m/var/folders/cf/lj06vg8d24d6_0gnzr5lh2d40000gn/T/ipykernel_18358/2369516278.py\u001b[0m in \u001b[0;36mcheck_inB1_name\u001b[0;34m(source)\u001b[0m\n\u001b[1;32m     17\u001b[0m \u001b[0;34m\u001b[0m\u001b[0m\n\u001b[1;32m     18\u001b[0m \u001b[0;32mdef\u001b[0m \u001b[0mcheck_inB1_name\u001b[0m\u001b[0;34m(\u001b[0m\u001b[0msource\u001b[0m\u001b[0;34m)\u001b[0m\u001b[0;34m:\u001b[0m\u001b[0;34m\u001b[0m\u001b[0;34m\u001b[0m\u001b[0m\n\u001b[0;32m---> 19\u001b[0;31m     \u001b[0msource\u001b[0m\u001b[0;34m,\u001b[0m \u001b[0mra_source\u001b[0m\u001b[0;34m,\u001b[0m \u001b[0mdec_source\u001b[0m \u001b[0;34m=\u001b[0m \u001b[0mwhich_source\u001b[0m\u001b[0;34m(\u001b[0m\u001b[0msource\u001b[0m\u001b[0;34m)\u001b[0m\u001b[0;34m\u001b[0m\u001b[0;34m\u001b[0m\u001b[0m\n\u001b[0m\u001b[1;32m     20\u001b[0m     \u001b[0mb1_ras\u001b[0m\u001b[0;34m,\u001b[0m \u001b[0mb1_decs\u001b[0m \u001b[0;34m=\u001b[0m \u001b[0mread_B1\u001b[0m\u001b[0;34m(\u001b[0m\u001b[0;34m)\u001b[0m\u001b[0;34m\u001b[0m\u001b[0;34m\u001b[0m\u001b[0m\n\u001b[1;32m     21\u001b[0m     \u001b[0mc_source\u001b[0m \u001b[0;34m=\u001b[0m \u001b[0mSkyCoord\u001b[0m\u001b[0;34m(\u001b[0m\u001b[0mra_source\u001b[0m\u001b[0;34m,\u001b[0m \u001b[0mdec_source\u001b[0m\u001b[0;34m,\u001b[0m \u001b[0mframe\u001b[0m \u001b[0;34m=\u001b[0m \u001b[0;34m\"icrs\"\u001b[0m\u001b[0;34m,\u001b[0m \u001b[0munit\u001b[0m \u001b[0;34m=\u001b[0m \u001b[0;34m(\u001b[0m\u001b[0mu\u001b[0m\u001b[0;34m.\u001b[0m\u001b[0mhourangle\u001b[0m\u001b[0;34m,\u001b[0m \u001b[0mu\u001b[0m\u001b[0;34m.\u001b[0m\u001b[0mdeg\u001b[0m\u001b[0;34m)\u001b[0m\u001b[0;34m)\u001b[0m\u001b[0;34m\u001b[0m\u001b[0;34m\u001b[0m\u001b[0m\n",
      "\u001b[0;32m/var/folders/cf/lj06vg8d24d6_0gnzr5lh2d40000gn/T/ipykernel_18358/2369516278.py\u001b[0m in \u001b[0;36mwhich_source\u001b[0;34m(source)\u001b[0m\n\u001b[1;32m      3\u001b[0m     \u001b[0;32mif\u001b[0m\u001b[0;34m(\u001b[0m\u001b[0mresult_table\u001b[0m \u001b[0;34m==\u001b[0m \u001b[0;32mNone\u001b[0m\u001b[0;34m)\u001b[0m\u001b[0;34m:\u001b[0m\u001b[0;34m\u001b[0m\u001b[0;34m\u001b[0m\u001b[0m\n\u001b[1;32m      4\u001b[0m         \u001b[0mprint\u001b[0m\u001b[0;34m(\u001b[0m\u001b[0;34m\"Unable to find\"\u001b[0m\u001b[0;34m,\u001b[0m \u001b[0msource\u001b[0m\u001b[0;34m.\u001b[0m\u001b[0mrstrip\u001b[0m\u001b[0;34m(\u001b[0m\u001b[0;34m\"\\n\"\u001b[0m\u001b[0;34m)\u001b[0m\u001b[0;34m,\u001b[0m \u001b[0;34m\", please enter the source coordinates:\"\u001b[0m\u001b[0;34m)\u001b[0m\u001b[0;34m\u001b[0m\u001b[0;34m\u001b[0m\u001b[0m\n\u001b[0;32m----> 5\u001b[0;31m         \u001b[0mra\u001b[0m \u001b[0;34m=\u001b[0m \u001b[0mfloat\u001b[0m\u001b[0;34m(\u001b[0m\u001b[0minput\u001b[0m\u001b[0;34m(\u001b[0m\u001b[0;34m\"ra (degrees):\"\u001b[0m\u001b[0;34m)\u001b[0m\u001b[0;34m)\u001b[0m\u001b[0;34m\u001b[0m\u001b[0;34m\u001b[0m\u001b[0m\n\u001b[0m\u001b[1;32m      6\u001b[0m         \u001b[0mdec\u001b[0m \u001b[0;34m=\u001b[0m \u001b[0mfloat\u001b[0m\u001b[0;34m(\u001b[0m\u001b[0minput\u001b[0m\u001b[0;34m(\u001b[0m\u001b[0;34m\"dec (degrees):\"\u001b[0m\u001b[0;34m)\u001b[0m\u001b[0;34m)\u001b[0m\u001b[0;34m\u001b[0m\u001b[0;34m\u001b[0m\u001b[0m\n\u001b[1;32m      7\u001b[0m     \u001b[0;32melse\u001b[0m\u001b[0;34m:\u001b[0m\u001b[0;34m\u001b[0m\u001b[0;34m\u001b[0m\u001b[0m\n",
      "\u001b[0;32m~/opt/anaconda3/lib/python3.9/site-packages/ipykernel/kernelbase.py\u001b[0m in \u001b[0;36mraw_input\u001b[0;34m(self, prompt)\u001b[0m\n\u001b[1;32m   1172\u001b[0m         \"\"\"\n\u001b[1;32m   1173\u001b[0m         \u001b[0;32mif\u001b[0m \u001b[0;32mnot\u001b[0m \u001b[0mself\u001b[0m\u001b[0;34m.\u001b[0m\u001b[0m_allow_stdin\u001b[0m\u001b[0;34m:\u001b[0m\u001b[0;34m\u001b[0m\u001b[0;34m\u001b[0m\u001b[0m\n\u001b[0;32m-> 1174\u001b[0;31m             raise StdinNotImplementedError(\n\u001b[0m\u001b[1;32m   1175\u001b[0m                 \u001b[0;34m\"raw_input was called, but this frontend does not support input requests.\"\u001b[0m\u001b[0;34m\u001b[0m\u001b[0;34m\u001b[0m\u001b[0m\n\u001b[1;32m   1176\u001b[0m             )\n",
      "\u001b[0;31mStdinNotImplementedError\u001b[0m: raw_input was called, but this frontend does not support input requests."
     ]
    }
   ],
   "source": [
    "check_inB1_list(\"sources.lst\")"
   ]
  },
  {
   "cell_type": "code",
   "execution_count": null,
   "id": "9b904c0d-ef03-45f1-9ef4-711ae7f4b484",
   "metadata": {},
   "outputs": [],
   "source": [
    "\n",
    "\n"
   ]
  },
  {
   "cell_type": "code",
   "execution_count": null,
   "id": "aa4fef85-ab20-4895-8c81-e9e4896a1505",
   "metadata": {},
   "outputs": [],
   "source": []
  },
  {
   "cell_type": "code",
   "execution_count": null,
   "id": "09aa0b8d-3e90-4e5b-b1fb-66f6a7869e8b",
   "metadata": {},
   "outputs": [],
   "source": []
  }
 ],
 "metadata": {
  "kernelspec": {
   "display_name": "Python 3 (ipykernel)",
   "language": "python",
   "name": "python3"
  },
  "language_info": {
   "codemirror_mode": {
    "name": "ipython",
    "version": 3
   },
   "file_extension": ".py",
   "mimetype": "text/x-python",
   "name": "python",
   "nbconvert_exporter": "python",
   "pygments_lexer": "ipython3",
   "version": "3.9.13"
  }
 },
 "nbformat": 4,
 "nbformat_minor": 5
}