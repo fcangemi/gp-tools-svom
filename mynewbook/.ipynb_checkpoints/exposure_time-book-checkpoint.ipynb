{
 "cells": [
  {
   "cell_type": "markdown",
   "id": "0a6d9f0c",
   "metadata": {},
   "source": [
    "# Estimate exposure time"
   ]
  },
  {
   "cell_type": "code",
   "execution_count": null,
   "id": "c20e5e3a",
   "metadata": {
    "tags": [
     "hide-cell"
    ]
   },
   "outputs": [
    {
     "name": "stdout",
     "output_type": "stream",
     "text": [
      "--2022-12-01 10:26:58--  https://github.com/fcangemi/gp-tools-svom/raw/main/ECL-RSP-ARF_20211023T01.fits\n",
      "Resolving github.com (github.com)... 140.82.121.4\n",
      "Connecting to github.com (github.com)|140.82.121.4|:443... connected.\n",
      "HTTP request sent, awaiting response... 302 Found\n",
      "Location: https://raw.githubusercontent.com/fcangemi/gp-tools-svom/main/ECL-RSP-ARF_20211023T01.fits [following]\n",
      "--2022-12-01 10:26:59--  https://raw.githubusercontent.com/fcangemi/gp-tools-svom/main/ECL-RSP-ARF_20211023T01.fits\n",
      "Resolving raw.githubusercontent.com (raw.githubusercontent.com)... 185.199.109.133, 185.199.110.133, 185.199.111.133, ...\n",
      "Connecting to raw.githubusercontent.com (raw.githubusercontent.com)|185.199.109.133|:443... connected.\n",
      "HTTP request sent, awaiting response... 200 OK\n",
      "Length: 25920 (25K) [application/octet-stream]\n",
      "Saving to: 'ECL-RSP-ARF_20211023T01.fits.4'\n",
      "\n",
      "ECL-RSP-ARF_2021102 100%[===================>]  25.31K  --.-KB/s    in 0.001s  \n",
      "\n",
      "2022-12-01 10:26:59 (24.5 MB/s) - 'ECL-RSP-ARF_20211023T01.fits.4' saved [25920/25920]\n",
      "\n",
      "--2022-12-01 10:26:59--  https://github.com/fcangemi/gp-tools-svom/raw/main/MXT_FM_PANTER_FULL-ALL-1.0.arf\n",
      "Resolving github.com (github.com)... 140.82.121.4\n",
      "Connecting to github.com (github.com)|140.82.121.4|:443... connected.\n",
      "HTTP request sent, awaiting response... 302 Found\n",
      "Location: https://raw.githubusercontent.com/fcangemi/gp-tools-svom/main/MXT_FM_PANTER_FULL-ALL-1.0.arf [following]\n",
      "--2022-12-01 10:26:59--  https://raw.githubusercontent.com/fcangemi/gp-tools-svom/main/MXT_FM_PANTER_FULL-ALL-1.0.arf\n",
      "Resolving raw.githubusercontent.com (raw.githubusercontent.com)... 185.199.109.133, 185.199.110.133, 185.199.111.133, ...\n",
      "Connecting to raw.githubusercontent.com (raw.githubusercontent.com)|185.199.109.133|:443... connected.\n",
      "HTTP request sent, awaiting response... 200 OK\n",
      "Length: 25920 (25K) [application/octet-stream]\n",
      "Saving to: 'MXT_FM_PANTER_FULL-ALL-1.0.arf.4'\n",
      "\n",
      "MXT_FM_PANTER_FULL- 100%[===================>]  25.31K  --.-KB/s    in 0.001s  \n",
      "\n",
      "2022-12-01 10:26:59 (23.5 MB/s) - 'MXT_FM_PANTER_FULL-ALL-1.0.arf.4' saved [25920/25920]\n",
      "\n",
      "Requirement already satisfied: astropy in /Users/fcangemi/opt/anaconda3/lib/python3.9/site-packages (5.1)\n",
      "Requirement already satisfied: pyerfa>=2.0 in /Users/fcangemi/opt/anaconda3/lib/python3.9/site-packages (from astropy) (2.0.0)\n",
      "Requirement already satisfied: numpy>=1.18 in /Users/fcangemi/opt/anaconda3/lib/python3.9/site-packages (from astropy) (1.21.5)\n",
      "Requirement already satisfied: PyYAML>=3.13 in /Users/fcangemi/opt/anaconda3/lib/python3.9/site-packages (from astropy) (6.0)\n",
      "Requirement already satisfied: packaging>=19.0 in /Users/fcangemi/opt/anaconda3/lib/python3.9/site-packages (from astropy) (21.3)\n",
      "Requirement already satisfied: pyparsing!=3.0.5,>=2.0.2 in /Users/fcangemi/opt/anaconda3/lib/python3.9/site-packages (from packaging>=19.0->astropy) (3.0.9)\n",
      "Collecting jupyter_bokeh\n",
      "  Downloading jupyter_bokeh-3.0.5.tar.gz (779 kB)\n",
      "\u001b[2K     \u001b[90m━━━━━━━━━━━━━━━━━━━━━━━━━━━━━━━━━━━━━━\u001b[0m \u001b[32m779.7/779.7 kB\u001b[0m \u001b[31m11.0 MB/s\u001b[0m eta \u001b[36m0:00:00\u001b[0ma \u001b[36m0:00:01\u001b[0m\n",
      "\u001b[?25h  Installing build dependencies ... \u001b[?25l|"
     ]
    }
   ],
   "source": [
    "!wget https://github.com/fcangemi/gp-tools-svom/raw/main/ECL-RSP-ARF_20211023T01.fits\n",
    "!wget https://github.com/fcangemi/gp-tools-svom/raw/main/MXT_FM_PANTER_FULL-ALL-1.0.arf\n",
    "!pip install astropy\n",
    "!pip install jupyter_bokeh"
   ]
  },
  {
   "cell_type": "code",
   "execution_count": null,
   "id": "53ab7f5f",
   "metadata": {
    "tags": [
     "hide-cell"
    ]
   },
   "outputs": [],
   "source": [
    "from astropy.io import fits\n",
    "import matplotlib.pyplot as plt\n",
    "import numpy as np\n",
    "from bokeh.plotting import figure, show, output_notebook\n",
    "output_notebook()"
   ]
  },
  {
   "cell_type": "code",
   "execution_count": null,
   "id": "d700bc4f-6774-4db6-b491-acc1de0d25ac",
   "metadata": {
    "tags": [
     "hide-cell"
    ]
   },
   "outputs": [],
   "source": [
    "def read_arf(arf_filename):\n",
    "    hdu1 = fits.open(arf_filename)\n",
    "    arf_data=hdu1[1].data\n",
    "    \n",
    "    emin = arf_data.ENERG_LO\n",
    "    emax = arf_data.ENERG_HI\n",
    "    arf = arf_data.SPECRESP\n",
    "\n",
    "    dE = emax - emin\n",
    "    E = emin + (emax - emin) / 2\n",
    "\n",
    "    return E, emin, emax, dE, arf\n",
    "\n",
    "def function(x, a):\n",
    "    return np.exp(- a * 1.5 / x ** 3)\n",
    "\n",
    "def absorption():\n",
    "    # From Strom & Strom 1961\n",
    "    data = np.genfromtxt(\"absorption.txt\", unpack = True, delimiter = \",\",\n",
    "                        skip_header = 1)\n",
    "    wavelength = data[0]\n",
    "    tau = data[1]\n",
    "    norm_I = data[2]\n",
    "    E = c.h * c.speed_of_light / (wavelength * 1e-10) * 6.242e15 # energy in keV\n",
    "    plt.plot(E, norm_I, label = \"data\")\n",
    "    plt.yscale(\"log\")\n",
    "    \n",
    "    # Fit\n",
    "    params, covs = curve_fit(function, E, norm_I, p0 = [0.50])\n",
    "    print(\"params: \", params)\n",
    "    \n",
    "    plt.plot(E, function(E, params[0]), label = \"Best fit\")\n",
    "    plt.ylim([1e-4, 1e1])\n",
    "    plt.legend()\n",
    "    plt.xlim([0, 2])\n",
    "\n",
    "def plot_F(ax, E, F):\n",
    "    ax.plot(E, F, color = \"black\", linewidth = 3)\n",
    "    ax.set_xscale(\"log\")\n",
    "    ax.set_yscale(\"log\")\n",
    "    ax.set_xlabel(\"Energy [keV]\")\n",
    "    ax.set_ylabel(\"F(E) [ph/cm2/s/keV]\")\n",
    "\n",
    "def plot_EF(ax, E, EF):\n",
    "    ax.plot(E, EF, color = \"black\", linewidth = 3)\n",
    "    ax.set_xscale(\"log\")\n",
    "    ax.set_yscale(\"log\")\n",
    "    ax.set_xlabel(\"Energy [keV]\")\n",
    "    ax.set_ylabel(\"EF(E) [ph/cm2/s]\")\n",
    "\n",
    "def calculate_norm_from_flux(flux, Gamma, Emin, Emax):\n",
    "    return flux * (-Gamma + 2) / (Emax**(-Gamma + 2) - Emin**(-Gamma + 2)) * 6.242e8\n",
    "\n",
    "def calculate_countrate(norm, Gamma, n_H, Eband, instrument, model):\n",
    "    if(instrument == \"MXT\"):\n",
    "        E, emin, emax, dE, arf = read_arf(\"MXT_FM_PANTER_FULL-ALL-1.0.arf\")\n",
    "    else:\n",
    "        E, emin, emax, dE, arf = read_arf(\"ECL-RSP-ARF_20211023T01.fits\")\n",
    "\n",
    "    if((Eband[0] <= E[0] - dE[0]) or (Eband[-1] >= E[-1] + dE[-1])):\n",
    "        print(\"ERROR: energy band outside the arf energy range !\")\n",
    "    else:\n",
    "        E_r = E[(E>=Eband[0]) & (E<=Eband[1])]\n",
    "        dE_r = dE[(E>=Eband[0]) & (E<=Eband[1])]\n",
    "        arf_r = arf[(E>=Eband[0]) & (E<=Eband[1])]\n",
    "        emax_r = emax[(E>=Eband[0]) & (E<=Eband[1])]\n",
    "        emin_r = emin[(E>=Eband[0]) & (E<=Eband[1])]\n",
    "        \n",
    "        a = 0.286733\n",
    "        \n",
    "        if(model == \"powerlaw\"):\n",
    "            F = norm * E_r**(-Gamma) * np.exp(- n_H * a / E_r**3)\n",
    "            countrate = sum(arf_r * norm * E_r**(-Gamma) * np.exp(- n_H * a / E_r**3) * dE_r)\n",
    "            \n",
    "        elif(model == \"cutoffpl\"):\n",
    "            F = norm * E_r**(-Gamma) * np.exp(-E_r / E_cut) * np.exp(- n_H * a / E_r**3)\n",
    "            countrate = sum(arf_r * norm * E_r**(-Gamma) * np.exp(-E_r / E_cut) * np.exp(- n_H * a / E_r**3) * dE_r)\n",
    "        \n",
    "        elif(model == \"bbody\"):\n",
    "            F = norm * 8.0525 * E_r**2 / (kT**4 * (np.exp(E_r/kT) - 1))# * np.exp(- n_H * a / E_r**3)\n",
    "            countrate = sum(arf_r * norm * 8.0525 * E_r**3 / (kT**4 * (np.exp(E_r/kT) - 1)) * np.exp(- n_H * a / E_r**3) * dE_r)\n",
    "            \n",
    "        else: # Brokenpowerlaw\n",
    "            F = np.ones(len(E_r))\n",
    "            countrate = 0\n",
    "            for i in range(len(E_r)):\n",
    "                if(E_r[i] <= E_break):\n",
    "                    F[i] = norm * E_r[i]**(-alpha) * np.exp(- n_H * a / E_r[i]**3)\n",
    "                    countrate += arf_r[i] * norm * E_r[i]**(-alpha) * np.exp(- n_H * a / E_r[i]**3) * dE_r[i]\n",
    "                    \n",
    "                else:\n",
    "                    F[i] = norm * E_r[i]**(-beta) * E_break**(beta - alpha) * np.exp(- n_H * a / E_r[i]**3)\n",
    "                    countrate += arf_r[i] * norm * E_r[i]**(-beta) * E_break**(beta - alpha) * dE_r[i] * np.exp(- n_H * a / E_r[i]**3)\n",
    "        #p = figure()\n",
    "        p = figure(plot_width = 500, plot_height = 300, y_axis_type = \"log\",\n",
    "                   x_axis_type = \"log\", y_axis_label = \"ph/cm2/s/keV\", x_axis_label = \"Energy [keV]\")\n",
    "        p.line(E_r, F, color = \"red\")#, linewidth = 2, label = \"Source\")\n",
    "        show(p)\n",
    "        #plt.xscale(\"log\")\n",
    "        #plt.yscale(\"log\")\n",
    "        #plt.xlabel(\"Energy [keV]\")\n",
    "        #plt.ylabel(\"ph/cm2/s/keV\")\n",
    "        return countrate\n",
    "\n",
    "def calculate_background(instrument, Eband):\n",
    "    if(instrument == \"ECLAIRs\"):\n",
    "        E, emin, emax, dE, arf = read_arf(\"ECL-RSP-ARF_20211023T01.fits\")\n",
    "    else:\n",
    "        E, emin, emax, dE, arf = read_arf(\"MXT_FM_PANTER_FULL-ALL-1.0.arf\")\n",
    "        \n",
    "    if((Eband[0] <= E[0] - dE[0]) or (Eband[-1] >= E[-1] + dE[-1])):\n",
    "        print(\"ERROR: energy band outside the arf energy range !\")\n",
    "    else:\n",
    "        E_r = E[(E>=Eband[0]) & (E<=Eband[1])]\n",
    "        dE_r = dE[(E>=Eband[0]) & (E<=Eband[1])]\n",
    "        arf_r = arf[(E>=Eband[0]) & (E<=Eband[1])]\n",
    "        emax_r = emax[(E>=Eband[0]) & (E<=Eband[1])]\n",
    "        emin_r = emin[(E>=Eband[0]) & (E<=Eband[1])]\n",
    "        \n",
    "        if(instrument == \"ECLAIRs\"):\n",
    "            # 2SJPL Model from Moretti+2009\n",
    "            Gamma_1 = 1.4\n",
    "            Gamma_2 = 2.88\n",
    "            E_B = 29             # keV\n",
    "            norm = 0.109         # ph/cm2/s/keV/sr\n",
    "            F = norm / ((E_r / E_B)**(Gamma_1) + (E_r / E_B)**(Gamma_2))\n",
    "            countrate = sum(arf_r / (0.24 * 1024) * 0.16 * 0.3436 * 80 * 80 * norm / ((E_r / E_B)**(Gamma_1) + (E_r / E_B)**(Gamma_2)) * dE_r)\n",
    "            \n",
    "        else:\n",
    "            # Powerlaw Model from Moretti+2009\n",
    "            norm = 3.67e-3 * 65318 * (13.5*0.0002777)**2 #norm in ph/cm2/s/keV/deg2 * nb pixel contributing to the PSF * (13.5 arcsec/pixel)**2\n",
    "            Gamma = 1.47\n",
    "            F = norm * E_r**(-Gamma)\n",
    "            countrate = sum(arf_r * norm * E_r**(-Gamma) * dE_r)\n",
    "        #plt.plot(E_r, F, color = \"blue\", label = \"CXB\")\n",
    "        #plt.legend()\n",
    "    return countrate\n",
    "\n",
    "def calculate_exposure(SNR, instrument, Eband):\n",
    "    print(\"Emin  = \", Eband[0], \"keV\")\n",
    "    print(\"Emax  = \", Eband[1], \"keV\")\n",
    "    print(\"norm  = \", f'{norm:.4f}', \"ph/s/cm2/keV\")\n",
    "    \n",
    "    if(model == \"powerlaw\"):\n",
    "        print(\"Gamma = \", Gamma)\n",
    "    elif(model == \"bknpowerlaw\"):\n",
    "        print(\"alpha = \", alpha)\n",
    "        print(\"beta  = \", beta)\n",
    "        print(\"E_break = \", E_break, \"keV\")\n",
    "    else:\n",
    "        print(\"Gamma = \", Gamma)\n",
    "        print(\"E_cut = \", E_cut)\n",
    "    print(\"n_H   = \", n_H, \"e21 cm-2\")\n",
    "    \n",
    "    source = calculate_countrate(norm, Gamma, n_H, Eband, instrument, model)\n",
    "    if(instrument == \"MXT\"):\n",
    "        \n",
    "        background = calculate_background(\"MXT\", Eband)\n",
    "        exposure = (SNR  / source * np.sqrt(source + background))**2\n",
    "    else:\n",
    "        background = calculate_background(\"ECLAIRs\", Eband)\n",
    "        exposure = (SNR  / source * np.sqrt(source / 0.4 + background))**2 # Skinner+2008\n",
    "    \n",
    "    print(\"Background =\", f'{background:.4f}', \"c/s in the energy band\", Eband, \"keV.\")\n",
    "    print(\"Source =\", f'{source:.4f}', \"c/s in the energy band\", Eband, \"keV.\")\n",
    "    print(instrument, \": need an exposure time of\", f'{exposure:.2f}', \"seconds for a SNR =\", SNR, \"over the energy band\", Eband, \"keV.\")"
   ]
  },
  {
   "cell_type": "markdown",
   "id": "0ffeab6c-b23e-448d-86ff-1272b17b61d8",
   "metadata": {},
   "source": [
    "This notebook uses ancillary response files of MXT and ECLAIRs in order to calculate the exposure time needed to achieve a signal to noise ratio given the spectrum of a source.\n",
    "#### 1. Choose the model and define parameters\n",
    "**Four types** of models can be used: \n",
    "\n",
    "##### Simple powerlaw, \"**powerlaw**\":\n",
    "$$\n",
    "N(E) = \\phi_0 E^{-\\Gamma}\n",
    "$$\n",
    "- $\\phi_0$: flux normalization in **ph/cm2/s/keV**, named \"**norm**\" in this notebook;\n",
    "- $\\Gamma$: photon index, named \"**Gamma**\" in this notebook.\n",
    "\n",
    "**NB**: for this model, you can alternatively calculate the flux normalization $\\phi_0$ by calling **calculate_norm_from_flux(unabsorbed_flux, Gamma, Emin, Emax)** and giving the ***unabsorbed flux*** in **ergs/cm2/s** between **Emin keV** and **Emax keV**.\n",
    "\n",
    "##### Broken powerlaw, \"**bknpowerlaw**\":\n",
    "$$\n",
    "N(E) = \\left\\{\n",
    "    \\begin{array}{ll}\n",
    "        \\phi_0 E^{-\\alpha} & \\mbox{if } E \\leq E_\\mathrm{break} \\\\\n",
    "        \\phi_0 E_\\mathrm{break}^{\\beta-\\alpha} E^{-\\beta} & \\mbox{if } E > E_\\mathrm{break}\n",
    "    \\end{array}\n",
    "\\right.\n",
    "$$\n",
    "- $\\phi_0$: flux normalization in **ph/cm2/s/keV**, named \"**norm**\" in this notebook;\n",
    "- $E_\\mathrm{break}$: break energy in **keV**, named \"**E_break**\" in this notebook;\n",
    "- $\\alpha$: photon index of the low energy powerlaw, named \"**alpha**\" in this notebook;\n",
    "- $\\beta$: photon index of the high energy powerlaw, named \"**beta**\" in this notebook.\n",
    "\n",
    "##### Cutoff powerlaw, \"**cutoffpl**\":\n",
    "$$\n",
    "N(E) = \\phi_0 E^{-\\Gamma} e^\\frac{E}{E_\\mathrm{cut}} \n",
    "$$\n",
    "- $\\phi_0$: flux normalization in **ph/cm2/s/keV**, named \"**norm**\" in this notebook;\n",
    "- $\\Gamma$: photon index, named \"**Gamma**\" in this notebook;\n",
    "- $E_\\mathrm{cut}$: cutoff energy in **keV**, \"**E_cut**\" in this notebook.\n",
    "\n",
    "##### Black body, \"**bbody**\":\n",
    "Description of the black body model in construction.\n",
    "\n",
    "For all the models, absorption is taken into account thanks to the hydrogen density column parameter **n_H**, in **$10^{21}$cm$^{-2}$**.\n",
    "\n",
    "#### 2. Calculate the exposure\n",
    "Once you have defined your model and the corresponding parameters, you can call \"**calculate_exposure(SNR, instrument, Eband)**\" to calculate the exposure time needed. This function has three arguments:\n",
    "- \"**SNR**\": Signal to Noise Ratio;\n",
    "- \"**instrument**\": you can choose between \"MXT\" or \"ECLAIRs\";\n",
    "- \"**Eband**\": energy band for which you want to calculate the exposure time, [**Emin**, **Emax**], **Emin** and **Emax** in **keV**.\n"
   ]
  },
  {
   "cell_type": "markdown",
   "id": "98b31d84",
   "metadata": {},
   "source": [
    "To edit the cells, `click on the rocket` at the top of this page, and then `click on the \"Live Code\"` button. Once your cell is edited you can click on \"run\""
   ]
  },
  {
   "cell_type": "markdown",
   "id": "bbc1a0d0",
   "metadata": {},
   "source": []
  },
  {
   "cell_type": "markdown",
   "id": "a28d4138-aa18-4064-8cea-0b58bceb295c",
   "metadata": {},
   "source": [
    "### Few examples\n",
    "#### Powerlaw (example for the Crab)"
   ]
  },
  {
   "cell_type": "markdown",
   "id": "4d592c89",
   "metadata": {},
   "source": [
    "Model and parameters:"
   ]
  },
  {
   "cell_type": "code",
   "execution_count": null,
   "id": "99163637-8423-4911-b01d-85a87248c431",
   "metadata": {},
   "outputs": [],
   "source": [
    "\n",
    "model = \"powerlaw\"\n",
    "norm  = 10         # Flux normalisation in ph/cm2/s/keV\n",
    "Gamma = 2.1        # Photon index\n",
    "n_H   = 4.5        # Density column in 1e21 cm-2\n"
   ]
  },
  {
   "cell_type": "markdown",
   "id": "109a841a",
   "metadata": {},
   "source": [
    "Exposure time:"
   ]
  },
  {
   "cell_type": "code",
   "execution_count": null,
   "id": "2911f63a",
   "metadata": {},
   "outputs": [],
   "source": [
    "calculate_exposure(SNR = 10, instrument = \"MXT\", Eband = [0.2, 10])"
   ]
  },
  {
   "cell_type": "markdown",
   "id": "f0e0d159-7d2f-45c5-b6a5-74c5dc5f31ac",
   "metadata": {},
   "source": [
    "Alternatively, you can give the unabsorbed flux to calculate the flux normalization:"
   ]
  },
  {
   "cell_type": "code",
   "execution_count": null,
   "id": "80a4e1ae-8190-4b2a-a9b7-4a728cb17237",
   "metadata": {},
   "outputs": [],
   "source": [
    "unabsorbed_flux = 2.24e-8   # Unabsorbed flux in ergs/cm2/s between 2-10 keV\n",
    "norm = calculate_norm_from_flux(unabsorbed_flux, Gamma, 2, 10)\n",
    "calculate_exposure(SNR = 5, instrument = \"MXT\", Eband = [0.2, 10])"
   ]
  },
  {
   "cell_type": "markdown",
   "id": "2a306a0d-990c-404a-adc9-a7611e2c4f52",
   "metadata": {},
   "source": [
    "#### Broken Powerlaw"
   ]
  },
  {
   "cell_type": "code",
   "execution_count": null,
   "id": "8cb90d8f-ef3f-46c6-b131-77cd1ca9883c",
   "metadata": {},
   "outputs": [],
   "source": [
    "model   = \"bknpowerlaw\"\n",
    "norm    = 0.1           # Flux normalisation in ph/cm2/s/keV\n",
    "E_break = 30            # Break energy in keV\n",
    "alpha   = 1.3           # Photon index of the low energy powerlaw\n",
    "beta    = 2.6           # Photon index of the high energy powerlaw\n",
    "n_H     = 2.0           # Density column in 1e21 cm-2\n",
    "calculate_exposure(SNR = 30, instrument = \"ECLAIRs\", Eband = [4, 150])"
   ]
  },
  {
   "cell_type": "markdown",
   "id": "21165817-f706-4e71-8db9-a358d380859b",
   "metadata": {},
   "source": [
    "#### Cutoff Powerlaw"
   ]
  },
  {
   "cell_type": "code",
   "execution_count": null,
   "id": "505d27bf-e0eb-4dcc-9fa1-fcaaf0bb52f7",
   "metadata": {},
   "outputs": [],
   "source": [
    "model = \"cutoffpl\"\n",
    "norm  = 0.1         # Flux normalisation in ph/cm2/s/keV\n",
    "E_cut = 40          # Energy cutoff in keV\n",
    "Gamma = 1.7         # Photon index\n",
    "n_H   = 0           # Density column in 1e21 cm-2\n",
    "calculate_exposure(SNR = 10, instrument = \"ECLAIRs\", Eband = [4, 100])"
   ]
  },
  {
   "cell_type": "markdown",
   "id": "33f7465f",
   "metadata": {},
   "source": [
    "#### Black Body"
   ]
  },
  {
   "cell_type": "code",
   "execution_count": null,
   "id": "67284567-ef58-419a-9291-3bb2aaaec508",
   "metadata": {},
   "outputs": [],
   "source": [
    "model = \"bbody\"\n",
    "norm = 1.\n",
    "n_H = 0.\n",
    "kT = 0.5\n",
    "calculate_exposure(SNR = 7, instrument = \"MXT\", Eband = [0.2, 10])"
   ]
  },
  {
   "cell_type": "code",
   "execution_count": null,
   "id": "0db0d1c1",
   "metadata": {},
   "outputs": [],
   "source": []
  },
  {
   "cell_type": "code",
   "execution_count": null,
   "id": "4aac043d",
   "metadata": {},
   "outputs": [],
   "source": []
  }
 ],
 "metadata": {
  "celltoolbar": "Éditer les Méta-Données",
  "kernelspec": {
   "display_name": "Python 3 (ipykernel)",
   "language": "python",
   "name": "python3"
  },
  "language_info": {
   "codemirror_mode": {
    "name": "ipython",
    "version": 3
   },
   "file_extension": ".py",
   "mimetype": "text/x-python",
   "name": "python",
   "nbconvert_exporter": "python",
   "pygments_lexer": "ipython3",
   "version": "3.9.13"
  }
 },
 "nbformat": 4,
 "nbformat_minor": 5
}
