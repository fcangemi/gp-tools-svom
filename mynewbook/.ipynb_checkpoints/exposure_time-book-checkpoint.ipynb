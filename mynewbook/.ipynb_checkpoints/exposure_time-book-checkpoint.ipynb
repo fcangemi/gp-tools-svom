{
 "cells": [
  {
   "cell_type": "code",
   "execution_count": 161,
   "id": "1bbae8ca-d008-40a4-b3b9-6937cda9f447",
   "metadata": {},
   "outputs": [],
   "source": [
    "!"
   ]
  },
  {
   "cell_type": "code",
   "execution_count": null,
   "id": "431a1ab1",
   "metadata": {},
   "outputs": [],
   "source": [
    "from astropy.io import fits\n",
    "import matplotlib.pyplot as plt\n",
    "import numpy as np\n",
    "from scipy import constants as c\n",
    "from scipy.optimize import curve_fit"
   ]
  },
  {
   "cell_type": "code",
   "execution_count": 162,
   "id": "d700bc4f-6774-4db6-b491-acc1de0d25ac",
   "metadata": {},
   "outputs": [],
   "source": [
    "def read_arf(arf_filename):\n",
    "    hdu1 = fits.open(arf_filename)\n",
    "    arf_data=hdu1[1].data\n",
    "    \n",
    "    emin = arf_data.ENERG_LO\n",
    "    emax = arf_data.ENERG_HI\n",
    "    arf = arf_data.SPECRESP\n",
    "\n",
    "    dE = emax - emin\n",
    "    E = emin + (emax - emin) / 2\n",
    "\n",
    "    return E, emin, emax, dE, arf\n",
    "\n",
    "def function(x, a):\n",
    "    return np.exp(- a * 1.5 / x ** 3)\n",
    "\n",
    "def absorption():\n",
    "    # From Strom & Strom 1961\n",
    "    data = np.genfromtxt(\"absorption.txt\", unpack = True, delimiter = \",\",\n",
    "                        skip_header = 1)\n",
    "    wavelength = data[0]\n",
    "    tau = data[1]\n",
    "    norm_I = data[2]\n",
    "    E = c.h * c.speed_of_light / (wavelength * 1e-10) * 6.242e15 # energy in keV\n",
    "    plt.plot(E, norm_I, label = \"data\")\n",
    "    plt.yscale(\"log\")\n",
    "    \n",
    "    # Fit\n",
    "    params, covs = curve_fit(function, E, norm_I, p0 = [0.50])\n",
    "    print(\"params: \", params)\n",
    "    \n",
    "    plt.plot(E, function(E, params[0]), label = \"Best fit\")\n",
    "    plt.ylim([1e-4, 1e1])\n",
    "    plt.legend()\n",
    "    plt.xlim([0, 2])\n",
    "\n",
    "def plot_F(ax, E, F):\n",
    "    ax.plot(E, F, color = \"black\", linewidth = 3)\n",
    "    ax.set_xscale(\"log\")\n",
    "    ax.set_yscale(\"log\")\n",
    "    ax.set_xlabel(\"Energy [keV]\")\n",
    "    ax.set_ylabel(\"F(E) [ph/cm2/s/keV]\")\n",
    "\n",
    "def plot_EF(ax, E, EF):\n",
    "    ax.plot(E, EF, color = \"black\", linewidth = 3)\n",
    "    ax.set_xscale(\"log\")\n",
    "    ax.set_yscale(\"log\")\n",
    "    ax.set_xlabel(\"Energy [keV]\")\n",
    "    ax.set_ylabel(\"EF(E) [ph/cm2/s]\")\n",
    "\n",
    "def calculate_norm_from_flux(flux, Gamma, Emin, Emax):\n",
    "    return flux * (-Gamma + 2) / (Emax**(-Gamma + 2) - Emin**(-Gamma + 2)) * 6.242e8\n",
    "\n",
    "def calculate_countrate(norm, Gamma, n_H, Eband, instrument, model):\n",
    "    if(instrument == \"MXT\"):\n",
    "        E, emin, emax, dE, arf = read_arf(\"MXT_FM_PANTER_FULL-ALL-1.0.arf\")\n",
    "    else:\n",
    "        E, emin, emax, dE, arf = read_arf(\"ECL_ARF.fits\")\n",
    "\n",
    "    if((Eband[0] <= E[0] - dE[0]) or (Eband[-1] >= E[-1] + dE[-1])):\n",
    "        print(\"ERROR: energy band outside the arf energy range !\")\n",
    "    else:\n",
    "        E_r = E[(E>=Eband[0]) & (E<=Eband[1])]\n",
    "        dE_r = dE[(E>=Eband[0]) & (E<=Eband[1])]\n",
    "        arf_r = arf[(E>=Eband[0]) & (E<=Eband[1])]\n",
    "        emax_r = emax[(E>=Eband[0]) & (E<=Eband[1])]\n",
    "        emin_r = emin[(E>=Eband[0]) & (E<=Eband[1])]\n",
    "        \n",
    "        a = 0.286733\n",
    "        \n",
    "        if(model == \"powerlaw\"):\n",
    "            F = norm * E_r**(-Gamma) * np.exp(- n_H * a / E_r**3)\n",
    "            countrate = sum(arf_r * norm * E_r**(-Gamma) * np.exp(- n_H * a / E_r**3) * dE_r)\n",
    "            \n",
    "        elif(model == \"cutoffpl\"):\n",
    "            F = norm * E_r**(-Gamma) * np.exp(-E_r / E_cut) * np.exp(- n_H * a / E_r**3)\n",
    "            countrate = sum(arf_r * norm * E_r**(-Gamma) * np.exp(-E_r / E_cut) * np.exp(- n_H * a / E_r**3) * dE_r)\n",
    "            \n",
    "        else: # Brokenpowerlaw\n",
    "            F = np.ones(len(E_r))\n",
    "            countrate = 0\n",
    "            for i in range(len(E_r)):\n",
    "                if(E_r[i] <= E_break):\n",
    "                    F[i] = norm * E_r[i]**(-alpha) * np.exp(- n_H * a / E_r[i]**3)\n",
    "                    countrate += arf_r[i] * norm * E_r[i]**(-alpha) * np.exp(- n_H * a / E_r[i]**3) * dE_r[i]\n",
    "                    \n",
    "                else:\n",
    "                    F[i] = norm * E_r[i]**(-beta) * E_break**(beta - alpha) * np.exp(- n_H * a / E_r[i]**3)\n",
    "                    countrate += arf_r[i] * norm * E_r[i]**(-beta) * E_break**(beta - alpha) * dE_r[i] * np.exp(- n_H * a / E_r[i]**3)\n",
    "                                    \n",
    "        plt.plot(E_r, F, color = \"red\", linewidth = 2, label = \"Source\")\n",
    "        plt.xscale(\"log\")\n",
    "        plt.yscale(\"log\")\n",
    "        plt.xlabel(\"Energy [keV]\")\n",
    "        plt.ylabel(\"ph/cm2/s/keV\")\n",
    "        return countrate\n",
    "\n",
    "def calculate_background(instrument, Eband):\n",
    "    if(instrument == \"ECLAIRs\"):\n",
    "        E, emin, emax, dE, arf = read_arf(\"ECL-RSP-ARF_20211023T01.fits\")\n",
    "    else:\n",
    "        E, emin, emax, dE, arf = read_arf(\"MXT_FM_PANTER_FULL-ALL-1.0.arf\")\n",
    "        \n",
    "    if((Eband[0] <= E[0] - dE[0]) or (Eband[-1] >= E[-1] + dE[-1])):\n",
    "        print(\"ERROR: energy band outside the arf energy range !\")\n",
    "    else:\n",
    "        E_r = E[(E>=Eband[0]) & (E<=Eband[1])]\n",
    "        dE_r = dE[(E>=Eband[0]) & (E<=Eband[1])]\n",
    "        arf_r = arf[(E>=Eband[0]) & (E<=Eband[1])]\n",
    "        emax_r = emax[(E>=Eband[0]) & (E<=Eband[1])]\n",
    "        emin_r = emin[(E>=Eband[0]) & (E<=Eband[1])]\n",
    "        \n",
    "        if(instrument == \"ECLAIRs\"):\n",
    "            # 2SJPL Model from Moretti+2009\n",
    "            Gamma_1 = 1.4\n",
    "            Gamma_2 = 2.88\n",
    "            E_B = 29             # keV\n",
    "            norm = 0.109         # ph/cm2/s/keV/sr\n",
    "            F = norm / ((E_r / E_B)**(Gamma_1) + (E_r / E_B)**(Gamma_2))\n",
    "            countrate = sum(arf_r / (0.24 * 1024) * 0.16 * 0.3436 * 80 * 80 * norm / ((E_r / E_B)**(Gamma_1) + (E_r / E_B)**(Gamma_2)) * dE_r)\n",
    "            \n",
    "        else:\n",
    "            # Powerlaw Model from Moretti+2009\n",
    "            norm = 3.67e-3 * 65318 * (13.5*0.0002777)**2 #norm in ph/cm2/s/keV/deg2 * nb pixel contributing to the PSF * (13.5 arcsec/pixel)**2\n",
    "            Gamma = 1.47\n",
    "            F = norm * E_r**(-Gamma)\n",
    "            countrate = sum(arf_r * norm * E_r**(-Gamma) * dE_r)\n",
    "\n",
    "        plt.plot(E_r, F, color = \"blue\", label = \"CXB\")\n",
    "        plt.legend()\n",
    "    return countrate\n",
    "\n",
    "def calculate_exposure(SNR, instrument, Eband):\n",
    "    print(\"Emin  = \", Eband[0], \"keV\")\n",
    "    print(\"Emax  = \", Eband[1], \"keV\")\n",
    "    print(\"norm  = \", f'{norm:.4f}', \"ph/s/cm2/keV\")\n",
    "    \n",
    "    if(model == \"powerlaw\"):\n",
    "        print(\"Gamma = \", Gamma)\n",
    "    elif(model == \"bknpowerlaw\"):\n",
    "        print(\"alpha = \", alpha)\n",
    "        print(\"beta  = \", beta)\n",
    "        print(\"E_break = \", E_break, \"keV\")\n",
    "    else:\n",
    "        print(\"Gamma = \", Gamma)\n",
    "        print(\"E_cut = \", E_cut)\n",
    "    print(\"n_H   = \", n_H, \"e21 cm-2\")\n",
    "    \n",
    "    source = calculate_countrate(norm, Gamma, n_H, Eband, instrument, model)\n",
    "    if(instrument == \"MXT\"):\n",
    "        \n",
    "        background = calculate_background(\"MXT\", Eband)\n",
    "        exposure = (SNR  / source * np.sqrt(source + background))**2\n",
    "    else:\n",
    "        background = calculate_background(\"ECLAIRs\", Eband)\n",
    "        exposure = (SNR  / source * np.sqrt(source / 0.4 + background))**2 # Skinner+2008\n",
    "    \n",
    "    print(\"Background =\", f'{background:.4f}', \"c/s in the energy band\", Eband, \"keV.\")\n",
    "    print(\"Source =\", f'{source:.4f}', \"c/s in the energy band\", Eband, \"keV.\")\n",
    "    print(instrument, \": need an exposure time of\", f'{exposure:.2f}', \"seconds for a SNR =\", SNR, \"over the energy band\", Eband, \"keV.\")"
   ]
  },
  {
   "cell_type": "markdown",
   "id": "0ffeab6c-b23e-448d-86ff-1272b17b61d8",
   "metadata": {},
   "source": [
    "## How to use this notebook?\n",
    "\n",
    "This notebook uses ancillary response files of MXT and ECLAIRs in order to calculate the exposure time needed to achieve a signal to noise ratio given the spectrum of a source.\n",
    "### 1) Choose the type of model you want to use and define the parameters\n",
    "**Three types** of models can be used: \n",
    "\n",
    "#### Simple powerlaw, \"**powerlaw**\":\n",
    "\\begin{equation}\n",
    "N(E) = \\phi_0 E^{-\\Gamma}\n",
    "\\end{equation}\n",
    "- $\\phi_0$: flux normalization in **ph/cm2/s/keV**, named \"**norm**\" in this notebook;\n",
    "- $\\Gamma$: photon index, named \"**Gamma**\" in this notebook.\n",
    "\n",
    "**NB**: for this model, you can alternatively calculate the flux normalization $\\phi_0$ by calling **calculate_norm_from_flux(unabsorbed_flux, Gamma, Emin, Emax)** and giving the ***unabsorbed flux*** in **ergs/cm2/s** between **Emin keV** and **Emax keV**.\n",
    "\n",
    "#### Broken powerlaw, \"**bknpowerlaw**\":\n",
    "\\begin{equation}\n",
    "N(E) = \\left\\{\n",
    "    \\begin{array}{ll}\n",
    "        \\phi_0 E^{-\\alpha} & \\mbox{if } E \\leq E_\\mathrm{break} \\\\\n",
    "        \\phi_0 E_\\mathrm{break}^{\\beta-\\alpha} E^{-\\beta} & \\mbox{if } E > E_\\mathrm{break}\n",
    "    \\end{array}\n",
    "\\right.\n",
    "\\end{equation}\n",
    "- $\\phi_0$: flux normalization in **ph/cm2/s/keV**, named \"**norm**\" in this notebook;\n",
    "- $E_\\mathrm{break}$: break energy in **keV**, named \"**E_break**\" in this notebook;\n",
    "- $\\alpha$: photon index of the low energy powerlaw, named \"**alpha**\" in this notebook;\n",
    "- $\\beta$: photon index of the high energy powerlaw, named \"**beta**\" in this notebook.\n",
    "\n",
    "#### Cutoff powerlaw, \"**cutoffpl**\":\n",
    "\\begin{equation}\n",
    "N(E) = \\phi_0 E^{-\\Gamma} e^\\frac{E}{E_\\mathrm{cut}} \n",
    "\\end{equation}\n",
    "- $\\phi_0$: flux normalization in **ph/cm2/s/keV**, named \"**norm**\" in this notebook;\n",
    "- $\\Gamma$: photon index, named \"**Gamma**\" in this notebook;\n",
    "- $E_\\mathrm{cut}$: cutoff energy in **keV**, \"**E_cut**\" in this notebook.\n",
    "\n",
    "##### For the three models, absorption is taken into account thanks to the hydrogen density column parameter **n_H**, in **$10^{21}$cm$^{-2}$**.\n",
    "### 2) Calculate the exposure\n",
    "Once you have defined your model and the corresponding parameters, you can call \"**calculate_exposure(SNR, instrument, Eband)**\" to calculate the exposure time needed. This function has three arguments:\n",
    "- \"**SNR**\": Signal to Noise Ratio;\n",
    "- \"**instrument**\": you can choose between \"MXT\" or \"ECLAIRs\";\n",
    "- \"**Eband**\": energy band for which you want to calculate the exposure time, [**Emin**, **Emax**], **Emin** and **Emax** in **keV**.\n"
   ]
  },
  {
   "cell_type": "markdown",
   "id": "a28d4138-aa18-4064-8cea-0b58bceb295c",
   "metadata": {},
   "source": [
    "### Few examples\n",
    "#### Powerlaw (example for the Crab)"
   ]
  },
  {
   "cell_type": "code",
   "execution_count": 164,
   "id": "99163637-8423-4911-b01d-85a87248c431",
   "metadata": {},
   "outputs": [
    {
     "name": "stdout",
     "output_type": "stream",
     "text": [
      "Emin  =  4 keV\n",
      "Emax  =  150 keV\n",
      "norm  =  10.0000 ph/s/cm2/keV\n",
      "Gamma =  2.1\n",
      "n_H   =  4.5 e21 cm-2\n",
      "Background = 3587.2578 c/s in the energy band [4, 150] keV.\n",
      "Source = 531.7378 c/s in the energy band [4, 150] keV.\n",
      "ECLAIRs : need an exposure time of 1.74 seconds for a SNR = 10 over the energy band [4, 150] keV.\n"
     ]
    },
    {
     "data": {
      "image/png": "[encoded data removed]",
      "text/plain": [
       "<Figure size 432x288 with 1 Axes>"
      ]
     },
     "metadata": {
      "needs_background": "light"
     },
     "output_type": "display_data"
    }
   ],
   "source": [
    "# Model and parameters\n",
    "model = \"powerlaw\"\n",
    "norm  = 10         # Flux normalisation in ph/cm2/s/keV\n",
    "Gamma = 2.1        # Photon index\n",
    "n_H   = 4.5        # Density column in 1e21 cm-2\n",
    "\n",
    "# Exposure time\n",
    "calculate_exposure(SNR = 10, instrument = \"ECLAIRs\", Eband = [4, 150])"
   ]
  },
  {
   "cell_type": "markdown",
   "id": "f0e0d159-7d2f-45c5-b6a5-74c5dc5f31ac",
   "metadata": {},
   "source": [
    "Alternatively, you can give the unabsorbed flux to calculate the flux normalization:"
   ]
  },
  {
   "cell_type": "code",
   "execution_count": 157,
   "id": "80a4e1ae-8190-4b2a-a9b7-4a728cb17237",
   "metadata": {},
   "outputs": [
    {
     "name": "stdout",
     "output_type": "stream",
     "text": [
      "Emin  =  0.2 keV\n",
      "Emax  =  10 keV\n",
      "norm  =  10.0805 ph/s/cm2/keV\n",
      "Gamma =  2.1\n",
      "n_H   =  4.5 e21 cm-2\n",
      "Background = 0.2285 c/s in the energy band [0.2, 10] keV.\n",
      "Source = 131.8547 c/s in the energy band [0.2, 10] keV.\n",
      "MXT : need an exposure time of 0.19 seconds for a SNR = 5 over the energy band [0.2, 10] keV.\n"
     ]
    },
    {
     "data": {
      "image/png": "[encoded data removed]",
      "text/plain": [
       "<Figure size 432x288 with 1 Axes>"
      ]
     },
     "metadata": {
      "needs_background": "light"
     },
     "output_type": "display_data"
    }
   ],
   "source": [
    "unabsorbed_flux = 2.24e-8   # Unabsorbed flux in ergs/cm2/s between 2-10 keV\n",
    "norm = calculate_norm_from_flux(unabsorbed_flux, Gamma, 2, 10)\n",
    "calculate_exposure(SNR = 5, instrument = \"MXT\", Eband = [0.2, 10])"
   ]
  },
  {
   "cell_type": "markdown",
   "id": "2a306a0d-990c-404a-adc9-a7611e2c4f52",
   "metadata": {},
   "source": [
    "#### Broken Powerlaw"
   ]
  },
  {
   "cell_type": "code",
   "execution_count": 158,
   "id": "8cb90d8f-ef3f-46c6-b131-77cd1ca9883c",
   "metadata": {},
   "outputs": [
    {
     "name": "stdout",
     "output_type": "stream",
     "text": [
      "Emin  =  4 keV\n",
      "Emax  =  150 keV\n",
      "norm  =  0.1000 ph/s/cm2/keV\n",
      "alpha =  1.3\n",
      "beta  =  2.6\n",
      "E_break =  30 keV\n",
      "n_H   =  2.0 e21 cm-2\n",
      "Background = 3587.2578 c/s in the energy band [4, 150] keV.\n",
      "Source = 36.3873 c/s in the energy band [4, 150] keV.\n",
      "ECLAIRs : need an exposure time of 2500.24 seconds for a SNR = 30 over the energy band [4, 150] keV.\n"
     ]
    },
    {
     "data": {
      "image/png": "[encoded data removed]",
      "text/plain": [
       "<Figure size 432x288 with 1 Axes>"
      ]
     },
     "metadata": {
      "needs_background": "light"
     },
     "output_type": "display_data"
    }
   ],
   "source": [
    "model   = \"bknpowerlaw\"\n",
    "norm    = 0.1           # Flux normalisation in ph/cm2/s/keV\n",
    "E_break = 30            # Break energy in keV\n",
    "alpha   = 1.3           # Photon index of the low energy powerlaw\n",
    "beta    = 2.6           # Photon index of the high energy powerlaw\n",
    "n_H     = 2.0           # Density column in 1e21 cm-2\n",
    "calculate_exposure(SNR = 30, instrument = \"ECLAIRs\", Eband = [4, 150])"
   ]
  },
  {
   "cell_type": "markdown",
   "id": "21165817-f706-4e71-8db9-a358d380859b",
   "metadata": {},
   "source": [
    "#### Cutoff Powerlaw"
   ]
  },
  {
   "cell_type": "code",
   "execution_count": 160,
   "id": "505d27bf-e0eb-4dcc-9fa1-fcaaf0bb52f7",
   "metadata": {},
   "outputs": [
    {
     "name": "stdout",
     "output_type": "stream",
     "text": [
      "Emin  =  4 keV\n",
      "Emax  =  100 keV\n",
      "norm  =  0.1000 ph/s/cm2/keV\n",
      "Gamma =  1.7\n",
      "E_cut =  40\n",
      "n_H   =  0 e21 cm-2\n",
      "Background = 3569.5199 c/s in the energy band [4, 100] keV.\n",
      "Source = 9.5452 c/s in the energy band [4, 100] keV.\n",
      "ECLAIRs : need an exposure time of 3943.98 seconds for a SNR = 10 over the energy band [4, 100] keV.\n"
     ]
    },
    {
     "data": {
      "image/png": "[encoded data removed]",
      "text/plain": [
       "<Figure size 432x288 with 1 Axes>"
      ]
     },
     "metadata": {
      "needs_background": "light"
     },
     "output_type": "display_data"
    }
   ],
   "source": [
    "model = \"cutoffpl\"\n",
    "norm  = 0.1         # Flux normalisation in ph/cm2/s/keV\n",
    "E_cut = 40          # Energy cutoff in keV\n",
    "Gamma = 1.7         # Photon index\n",
    "n_H   = 0           # Density column in 1e21 cm-2\n",
    "calculate_exposure(SNR = 10, instrument = \"ECLAIRs\", Eband = [4, 100])"
   ]
  },
  {
   "cell_type": "code",
   "execution_count": null,
   "id": "67284567-ef58-419a-9291-3bb2aaaec508",
   "metadata": {},
   "outputs": [],
   "source": []
  }
 ],
 "metadata": {
  "kernelspec": {
   "display_name": "Python 3 (ipykernel)",
   "language": "python",
   "name": "python3"
  },
  "language_info": {
   "codemirror_mode": {
    "name": "ipython",
    "version": 3
   },
   "file_extension": ".py",
   "mimetype": "text/x-python",
   "name": "python",
   "nbconvert_exporter": "python",
   "pygments_lexer": "ipython3",
   "version": "3.9.13"
  }
 },
 "nbformat": 4,
 "nbformat_minor": 5
}
