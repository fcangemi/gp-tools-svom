{
 "cells": [
  {
   "cell_type": "markdown",
   "id": "0a6d9f0c",
   "metadata": {},
   "source": [
    "# Estimate exposure time"
   ]
  },
  {
   "cell_type": "code",
   "execution_count": 11,
   "id": "c20e5e3a",
   "metadata": {
    "tags": [
     "hide-cell"
    ]
   },
   "outputs": [
    {
     "name": "stdout",
     "output_type": "stream",
     "text": [
      "--2022-12-01 11:11:05--  https://github.com/fcangemi/gp-tools-svom/raw/main/ECL-RSP-ARF_20211023T01.fits\n",
      "Resolving github.com (github.com)... 140.82.121.3\n",
      "Connecting to github.com (github.com)|140.82.121.3|:443... connected.\n",
      "HTTP request sent, awaiting response... 302 Found\n",
      "Location: https://raw.githubusercontent.com/fcangemi/gp-tools-svom/main/ECL-RSP-ARF_20211023T01.fits [following]\n",
      "--2022-12-01 11:11:06--  https://raw.githubusercontent.com/fcangemi/gp-tools-svom/main/ECL-RSP-ARF_20211023T01.fits\n",
      "Resolving raw.githubusercontent.com (raw.githubusercontent.com)... 185.199.110.133, 185.199.111.133, 185.199.108.133, ...\n",
      "Connecting to raw.githubusercontent.com (raw.githubusercontent.com)|185.199.110.133|:443... connected.\n",
      "HTTP request sent, awaiting response... 200 OK\n",
      "Length: 25920 (25K) [application/octet-stream]\n",
      "Saving to: 'ECL-RSP-ARF_20211023T01.fits.9'\n",
      "\n",
      "ECL-RSP-ARF_2021102 100%[===================>]  25.31K  --.-KB/s    in 0.001s  \n",
      "\n",
      "2022-12-01 11:11:06 (23.7 MB/s) - 'ECL-RSP-ARF_20211023T01.fits.9' saved [25920/25920]\n",
      "\n",
      "--2022-12-01 11:11:06--  https://github.com/fcangemi/gp-tools-svom/raw/main/MXT_FM_PANTER_FULL-ALL-1.0.arf\n",
      "Resolving github.com (github.com)... 140.82.121.3\n",
      "Connecting to github.com (github.com)|140.82.121.3|:443... connected.\n",
      "HTTP request sent, awaiting response... 302 Found\n",
      "Location: https://raw.githubusercontent.com/fcangemi/gp-tools-svom/main/MXT_FM_PANTER_FULL-ALL-1.0.arf [following]\n",
      "--2022-12-01 11:11:06--  https://raw.githubusercontent.com/fcangemi/gp-tools-svom/main/MXT_FM_PANTER_FULL-ALL-1.0.arf\n",
      "Resolving raw.githubusercontent.com (raw.githubusercontent.com)... 185.199.110.133, 185.199.111.133, 185.199.108.133, ...\n",
      "Connecting to raw.githubusercontent.com (raw.githubusercontent.com)|185.199.110.133|:443... connected.\n",
      "HTTP request sent, awaiting response... 200 OK\n",
      "Length: 25920 (25K) [application/octet-stream]\n",
      "Saving to: 'MXT_FM_PANTER_FULL-ALL-1.0.arf.9'\n",
      "\n",
      "MXT_FM_PANTER_FULL- 100%[===================>]  25.31K  --.-KB/s    in 0.001s  \n",
      "\n",
      "2022-12-01 11:11:06 (23.8 MB/s) - 'MXT_FM_PANTER_FULL-ALL-1.0.arf.9' saved [25920/25920]\n",
      "\n",
      "Requirement already satisfied: astropy in /Users/fcangemi/opt/anaconda3/lib/python3.9/site-packages (5.1)\n",
      "Requirement already satisfied: pyerfa>=2.0 in /Users/fcangemi/opt/anaconda3/lib/python3.9/site-packages (from astropy) (2.0.0)\n",
      "Requirement already satisfied: numpy>=1.18 in /Users/fcangemi/opt/anaconda3/lib/python3.9/site-packages (from astropy) (1.21.5)\n",
      "Requirement already satisfied: PyYAML>=3.13 in /Users/fcangemi/opt/anaconda3/lib/python3.9/site-packages (from astropy) (6.0)\n",
      "Requirement already satisfied: packaging>=19.0 in /Users/fcangemi/opt/anaconda3/lib/python3.9/site-packages (from astropy) (21.3)\n",
      "Requirement already satisfied: pyparsing!=3.0.5,>=2.0.2 in /Users/fcangemi/opt/anaconda3/lib/python3.9/site-packages (from packaging>=19.0->astropy) (3.0.9)\n",
      "Requirement already satisfied: jupyter_bokeh in /Users/fcangemi/opt/anaconda3/lib/python3.9/site-packages (3.0.5)\n",
      "Requirement already satisfied: ipywidgets>=8.0.0 in /Users/fcangemi/opt/anaconda3/lib/python3.9/site-packages (from jupyter_bokeh) (8.0.2)\n",
      "Requirement already satisfied: bokeh>=2.4.0 in /Users/fcangemi/opt/anaconda3/lib/python3.9/site-packages (from jupyter_bokeh) (2.4.3)\n",
      "Requirement already satisfied: numpy>=1.11.3 in /Users/fcangemi/opt/anaconda3/lib/python3.9/site-packages (from bokeh>=2.4.0->jupyter_bokeh) (1.21.5)\n",
      "Requirement already satisfied: pillow>=7.1.0 in /Users/fcangemi/opt/anaconda3/lib/python3.9/site-packages (from bokeh>=2.4.0->jupyter_bokeh) (9.2.0)\n",
      "Requirement already satisfied: typing-extensions>=3.10.0 in /Users/fcangemi/opt/anaconda3/lib/python3.9/site-packages (from bokeh>=2.4.0->jupyter_bokeh) (4.3.0)\n",
      "Requirement already satisfied: Jinja2>=2.9 in /Users/fcangemi/opt/anaconda3/lib/python3.9/site-packages (from bokeh>=2.4.0->jupyter_bokeh) (2.11.3)\n",
      "Requirement already satisfied: tornado>=5.1 in /Users/fcangemi/opt/anaconda3/lib/python3.9/site-packages (from bokeh>=2.4.0->jupyter_bokeh) (6.1)\n",
      "Requirement already satisfied: packaging>=16.8 in /Users/fcangemi/opt/anaconda3/lib/python3.9/site-packages (from bokeh>=2.4.0->jupyter_bokeh) (21.3)\n",
      "Requirement already satisfied: PyYAML>=3.10 in /Users/fcangemi/opt/anaconda3/lib/python3.9/site-packages (from bokeh>=2.4.0->jupyter_bokeh) (6.0)\n",
      "Requirement already satisfied: ipython>=6.1.0 in /Users/fcangemi/opt/anaconda3/lib/python3.9/site-packages (from ipywidgets>=8.0.0->jupyter_bokeh) (7.31.1)\n",
      "Requirement already satisfied: ipykernel>=4.5.1 in /Users/fcangemi/opt/anaconda3/lib/python3.9/site-packages (from ipywidgets>=8.0.0->jupyter_bokeh) (6.15.2)\n",
      "Requirement already satisfied: jupyterlab-widgets~=3.0 in /Users/fcangemi/opt/anaconda3/lib/python3.9/site-packages (from ipywidgets>=8.0.0->jupyter_bokeh) (3.0.3)\n",
      "Requirement already satisfied: traitlets>=4.3.1 in /Users/fcangemi/opt/anaconda3/lib/python3.9/site-packages (from ipywidgets>=8.0.0->jupyter_bokeh) (5.1.1)\n",
      "Requirement already satisfied: widgetsnbextension~=4.0 in /Users/fcangemi/opt/anaconda3/lib/python3.9/site-packages (from ipywidgets>=8.0.0->jupyter_bokeh) (4.0.3)\n",
      "Requirement already satisfied: psutil in /Users/fcangemi/opt/anaconda3/lib/python3.9/site-packages (from ipykernel>=4.5.1->ipywidgets>=8.0.0->jupyter_bokeh) (5.9.0)\n",
      "Requirement already satisfied: jupyter-client>=6.1.12 in /Users/fcangemi/opt/anaconda3/lib/python3.9/site-packages (from ipykernel>=4.5.1->ipywidgets>=8.0.0->jupyter_bokeh) (7.3.4)\n",
      "Requirement already satisfied: matplotlib-inline>=0.1 in /Users/fcangemi/opt/anaconda3/lib/python3.9/site-packages (from ipykernel>=4.5.1->ipywidgets>=8.0.0->jupyter_bokeh) (0.1.6)\n",
      "Requirement already satisfied: nest-asyncio in /Users/fcangemi/opt/anaconda3/lib/python3.9/site-packages (from ipykernel>=4.5.1->ipywidgets>=8.0.0->jupyter_bokeh) (1.5.5)\n",
      "Requirement already satisfied: appnope in /Users/fcangemi/opt/anaconda3/lib/python3.9/site-packages (from ipykernel>=4.5.1->ipywidgets>=8.0.0->jupyter_bokeh) (0.1.2)\n",
      "Requirement already satisfied: debugpy>=1.0 in /Users/fcangemi/opt/anaconda3/lib/python3.9/site-packages (from ipykernel>=4.5.1->ipywidgets>=8.0.0->jupyter_bokeh) (1.5.1)\n",
      "Requirement already satisfied: pyzmq>=17 in /Users/fcangemi/opt/anaconda3/lib/python3.9/site-packages (from ipykernel>=4.5.1->ipywidgets>=8.0.0->jupyter_bokeh) (23.2.0)\n",
      "Requirement already satisfied: pickleshare in /Users/fcangemi/opt/anaconda3/lib/python3.9/site-packages (from ipython>=6.1.0->ipywidgets>=8.0.0->jupyter_bokeh) (0.7.5)\n",
      "Requirement already satisfied: jedi>=0.16 in /Users/fcangemi/opt/anaconda3/lib/python3.9/site-packages (from ipython>=6.1.0->ipywidgets>=8.0.0->jupyter_bokeh) (0.18.1)\n",
      "Requirement already satisfied: pexpect>4.3 in /Users/fcangemi/opt/anaconda3/lib/python3.9/site-packages (from ipython>=6.1.0->ipywidgets>=8.0.0->jupyter_bokeh) (4.8.0)\n",
      "Requirement already satisfied: decorator in /Users/fcangemi/opt/anaconda3/lib/python3.9/site-packages (from ipython>=6.1.0->ipywidgets>=8.0.0->jupyter_bokeh) (5.1.1)\n",
      "Requirement already satisfied: backcall in /Users/fcangemi/opt/anaconda3/lib/python3.9/site-packages (from ipython>=6.1.0->ipywidgets>=8.0.0->jupyter_bokeh) (0.2.0)\n",
      "Requirement already satisfied: setuptools>=18.5 in /Users/fcangemi/opt/anaconda3/lib/python3.9/site-packages (from ipython>=6.1.0->ipywidgets>=8.0.0->jupyter_bokeh) (63.4.1)\n",
      "Requirement already satisfied: pygments in /Users/fcangemi/opt/anaconda3/lib/python3.9/site-packages (from ipython>=6.1.0->ipywidgets>=8.0.0->jupyter_bokeh) (2.11.2)\n",
      "Requirement already satisfied: prompt-toolkit!=3.0.0,!=3.0.1,<3.1.0,>=2.0.0 in /Users/fcangemi/opt/anaconda3/lib/python3.9/site-packages (from ipython>=6.1.0->ipywidgets>=8.0.0->jupyter_bokeh) (3.0.20)\n",
      "Requirement already satisfied: MarkupSafe>=0.23 in /Users/fcangemi/opt/anaconda3/lib/python3.9/site-packages (from Jinja2>=2.9->bokeh>=2.4.0->jupyter_bokeh) (2.0.1)\n",
      "Requirement already satisfied: pyparsing!=3.0.5,>=2.0.2 in /Users/fcangemi/opt/anaconda3/lib/python3.9/site-packages (from packaging>=16.8->bokeh>=2.4.0->jupyter_bokeh) (3.0.9)\n",
      "Requirement already satisfied: parso<0.9.0,>=0.8.0 in /Users/fcangemi/opt/anaconda3/lib/python3.9/site-packages (from jedi>=0.16->ipython>=6.1.0->ipywidgets>=8.0.0->jupyter_bokeh) (0.8.3)\n"
     ]
    },
    {
     "name": "stdout",
     "output_type": "stream",
     "text": [
      "Requirement already satisfied: jupyter-core>=4.9.2 in /Users/fcangemi/opt/anaconda3/lib/python3.9/site-packages (from jupyter-client>=6.1.12->ipykernel>=4.5.1->ipywidgets>=8.0.0->jupyter_bokeh) (4.11.1)\r\n",
      "Requirement already satisfied: python-dateutil>=2.8.2 in /Users/fcangemi/opt/anaconda3/lib/python3.9/site-packages (from jupyter-client>=6.1.12->ipykernel>=4.5.1->ipywidgets>=8.0.0->jupyter_bokeh) (2.8.2)\r\n",
      "Requirement already satisfied: entrypoints in /Users/fcangemi/opt/anaconda3/lib/python3.9/site-packages (from jupyter-client>=6.1.12->ipykernel>=4.5.1->ipywidgets>=8.0.0->jupyter_bokeh) (0.4)\r\n",
      "Requirement already satisfied: ptyprocess>=0.5 in /Users/fcangemi/opt/anaconda3/lib/python3.9/site-packages (from pexpect>4.3->ipython>=6.1.0->ipywidgets>=8.0.0->jupyter_bokeh) (0.7.0)\r\n",
      "Requirement already satisfied: wcwidth in /Users/fcangemi/opt/anaconda3/lib/python3.9/site-packages (from prompt-toolkit!=3.0.0,!=3.0.1,<3.1.0,>=2.0.0->ipython>=6.1.0->ipywidgets>=8.0.0->jupyter_bokeh) (0.2.5)\r\n",
      "Requirement already satisfied: six>=1.5 in /Users/fcangemi/opt/anaconda3/lib/python3.9/site-packages (from python-dateutil>=2.8.2->jupyter-client>=6.1.12->ipykernel>=4.5.1->ipywidgets>=8.0.0->jupyter_bokeh) (1.16.0)\r\n"
     ]
    }
   ],
   "source": [
    "!wget https://github.com/fcangemi/gp-tools-svom/raw/main/ECL-RSP-ARF_20211023T01.fits\n",
    "!wget https://github.com/fcangemi/gp-tools-svom/raw/main/MXT_FM_PANTER_FULL-ALL-1.0.arf\n",
    "!pip install astropy\n",
    "!pip install jupyter_bokeh\n",
    "!jupyter labextension install @bokeh/jupyter_bokeh"
   ]
  },
  {
   "cell_type": "code",
   "execution_count": 12,
   "id": "53ab7f5f",
   "metadata": {
    "tags": [
     "hide-cell"
    ]
   },
   "outputs": [],
   "source": [
    "from astropy.io import fits\n",
    "#import matplotlib.pyplot as plt\n",
    "import numpy as np\n",
    "import pandas as pd\n",
    "\n",
    "#import plotly.io as pio\n",
    "#import plotly.express as px\n",
    "#import plotly.offline as py\n"
   ]
  },
  {
   "cell_type": "code",
   "execution_count": 13,
   "id": "ebc53e4f",
   "metadata": {},
   "outputs": [
    {
     "data": {
      "text/html": [
       "<div class=\"bk-root\">\n",
       "        <a href=\"https://bokeh.org\" target=\"_blank\" class=\"bk-logo bk-logo-small bk-logo-notebook\"></a>\n",
       "        <span id=\"1783\">Loading BokehJS ...</span>\n",
       "    </div>\n"
      ]
     },
     "metadata": {},
     "output_type": "display_data"
    },
    {
     "data": {
      "application/javascript": [
       "(function(root) {\n",
       "  function now() {\n",
       "    return new Date();\n",
       "  }\n",
       "\n",
       "  const force = true;\n",
       "\n",
       "  if (typeof root._bokeh_onload_callbacks === \"undefined\" || force === true) {\n",
       "    root._bokeh_onload_callbacks = [];\n",
       "    root._bokeh_is_loading = undefined;\n",
       "  }\n",
       "\n",
       "const JS_MIME_TYPE = 'application/javascript';\n",
       "  const HTML_MIME_TYPE = 'text/html';\n",
       "  const EXEC_MIME_TYPE = 'application/vnd.bokehjs_exec.v0+json';\n",
       "  const CLASS_NAME = 'output_bokeh rendered_html';\n",
       "\n",
       "  /**\n",
       "   * Render data to the DOM node\n",
       "   */\n",
       "  function render(props, node) {\n",
       "    const script = document.createElement(\"script\");\n",
       "    node.appendChild(script);\n",
       "  }\n",
       "\n",
       "  /**\n",
       "   * Handle when an output is cleared or removed\n",
       "   */\n",
       "  function handleClearOutput(event, handle) {\n",
       "    const cell = handle.cell;\n",
       "\n",
       "    const id = cell.output_area._bokeh_element_id;\n",
       "    const server_id = cell.output_area._bokeh_server_id;\n",
       "    // Clean up Bokeh references\n",
       "    if (id != null && id in Bokeh.index) {\n",
       "      Bokeh.index[id].model.document.clear();\n",
       "      delete Bokeh.index[id];\n",
       "    }\n",
       "\n",
       "    if (server_id !== undefined) {\n",
       "      // Clean up Bokeh references\n",
       "      const cmd_clean = \"from bokeh.io.state import curstate; print(curstate().uuid_to_server['\" + server_id + \"'].get_sessions()[0].document.roots[0]._id)\";\n",
       "      cell.notebook.kernel.execute(cmd_clean, {\n",
       "        iopub: {\n",
       "          output: function(msg) {\n",
       "            const id = msg.content.text.trim();\n",
       "            if (id in Bokeh.index) {\n",
       "              Bokeh.index[id].model.document.clear();\n",
       "              delete Bokeh.index[id];\n",
       "            }\n",
       "          }\n",
       "        }\n",
       "      });\n",
       "      // Destroy server and session\n",
       "      const cmd_destroy = \"import bokeh.io.notebook as ion; ion.destroy_server('\" + server_id + \"')\";\n",
       "      cell.notebook.kernel.execute(cmd_destroy);\n",
       "    }\n",
       "  }\n",
       "\n",
       "  /**\n",
       "   * Handle when a new output is added\n",
       "   */\n",
       "  function handleAddOutput(event, handle) {\n",
       "    const output_area = handle.output_area;\n",
       "    const output = handle.output;\n",
       "\n",
       "    // limit handleAddOutput to display_data with EXEC_MIME_TYPE content only\n",
       "    if ((output.output_type != \"display_data\") || (!Object.prototype.hasOwnProperty.call(output.data, EXEC_MIME_TYPE))) {\n",
       "      return\n",
       "    }\n",
       "\n",
       "    const toinsert = output_area.element.find(\".\" + CLASS_NAME.split(' ')[0]);\n",
       "\n",
       "    if (output.metadata[EXEC_MIME_TYPE][\"id\"] !== undefined) {\n",
       "      toinsert[toinsert.length - 1].firstChild.textContent = output.data[JS_MIME_TYPE];\n",
       "      // store reference to embed id on output_area\n",
       "      output_area._bokeh_element_id = output.metadata[EXEC_MIME_TYPE][\"id\"];\n",
       "    }\n",
       "    if (output.metadata[EXEC_MIME_TYPE][\"server_id\"] !== undefined) {\n",
       "      const bk_div = document.createElement(\"div\");\n",
       "      bk_div.innerHTML = output.data[HTML_MIME_TYPE];\n",
       "      const script_attrs = bk_div.children[0].attributes;\n",
       "      for (let i = 0; i < script_attrs.length; i++) {\n",
       "        toinsert[toinsert.length - 1].firstChild.setAttribute(script_attrs[i].name, script_attrs[i].value);\n",
       "        toinsert[toinsert.length - 1].firstChild.textContent = bk_div.children[0].textContent\n",
       "      }\n",
       "      // store reference to server id on output_area\n",
       "      output_area._bokeh_server_id = output.metadata[EXEC_MIME_TYPE][\"server_id\"];\n",
       "    }\n",
       "  }\n",
       "\n",
       "  function register_renderer(events, OutputArea) {\n",
       "\n",
       "    function append_mime(data, metadata, element) {\n",
       "      // create a DOM node to render to\n",
       "      const toinsert = this.create_output_subarea(\n",
       "        metadata,\n",
       "        CLASS_NAME,\n",
       "        EXEC_MIME_TYPE\n",
       "      );\n",
       "      this.keyboard_manager.register_events(toinsert);\n",
       "      // Render to node\n",
       "      const props = {data: data, metadata: metadata[EXEC_MIME_TYPE]};\n",
       "      render(props, toinsert[toinsert.length - 1]);\n",
       "      element.append(toinsert);\n",
       "      return toinsert\n",
       "    }\n",
       "\n",
       "    /* Handle when an output is cleared or removed */\n",
       "    events.on('clear_output.CodeCell', handleClearOutput);\n",
       "    events.on('delete.Cell', handleClearOutput);\n",
       "\n",
       "    /* Handle when a new output is added */\n",
       "    events.on('output_added.OutputArea', handleAddOutput);\n",
       "\n",
       "    /**\n",
       "     * Register the mime type and append_mime function with output_area\n",
       "     */\n",
       "    OutputArea.prototype.register_mime_type(EXEC_MIME_TYPE, append_mime, {\n",
       "      /* Is output safe? */\n",
       "      safe: true,\n",
       "      /* Index of renderer in `output_area.display_order` */\n",
       "      index: 0\n",
       "    });\n",
       "  }\n",
       "\n",
       "  // register the mime type if in Jupyter Notebook environment and previously unregistered\n",
       "  if (root.Jupyter !== undefined) {\n",
       "    const events = require('base/js/events');\n",
       "    const OutputArea = require('notebook/js/outputarea').OutputArea;\n",
       "\n",
       "    if (OutputArea.prototype.mime_types().indexOf(EXEC_MIME_TYPE) == -1) {\n",
       "      register_renderer(events, OutputArea);\n",
       "    }\n",
       "  }\n",
       "  if (typeof (root._bokeh_timeout) === \"undefined\" || force === true) {\n",
       "    root._bokeh_timeout = Date.now() + 5000;\n",
       "    root._bokeh_failed_load = false;\n",
       "  }\n",
       "\n",
       "  const NB_LOAD_WARNING = {'data': {'text/html':\n",
       "     \"<div style='background-color: #fdd'>\\n\"+\n",
       "     \"<p>\\n\"+\n",
       "     \"BokehJS does not appear to have successfully loaded. If loading BokehJS from CDN, this \\n\"+\n",
       "     \"may be due to a slow or bad network connection. Possible fixes:\\n\"+\n",
       "     \"</p>\\n\"+\n",
       "     \"<ul>\\n\"+\n",
       "     \"<li>re-rerun `output_notebook()` to attempt to load from CDN again, or</li>\\n\"+\n",
       "     \"<li>use INLINE resources instead, as so:</li>\\n\"+\n",
       "     \"</ul>\\n\"+\n",
       "     \"<code>\\n\"+\n",
       "     \"from bokeh.resources import INLINE\\n\"+\n",
       "     \"output_notebook(resources=INLINE)\\n\"+\n",
       "     \"</code>\\n\"+\n",
       "     \"</div>\"}};\n",
       "\n",
       "  function display_loaded() {\n",
       "    const el = document.getElementById(\"1783\");\n",
       "    if (el != null) {\n",
       "      el.textContent = \"BokehJS is loading...\";\n",
       "    }\n",
       "    if (root.Bokeh !== undefined) {\n",
       "      if (el != null) {\n",
       "        el.textContent = \"BokehJS \" + root.Bokeh.version + \" successfully loaded.\";\n",
       "      }\n",
       "    } else if (Date.now() < root._bokeh_timeout) {\n",
       "      setTimeout(display_loaded, 100)\n",
       "    }\n",
       "  }\n",
       "\n",
       "  function run_callbacks() {\n",
       "    try {\n",
       "      root._bokeh_onload_callbacks.forEach(function(callback) {\n",
       "        if (callback != null)\n",
       "          callback();\n",
       "      });\n",
       "    } finally {\n",
       "      delete root._bokeh_onload_callbacks\n",
       "    }\n",
       "    console.debug(\"Bokeh: all callbacks have finished\");\n",
       "  }\n",
       "\n",
       "  function load_libs(css_urls, js_urls, callback) {\n",
       "    if (css_urls == null) css_urls = [];\n",
       "    if (js_urls == null) js_urls = [];\n",
       "\n",
       "    root._bokeh_onload_callbacks.push(callback);\n",
       "    if (root._bokeh_is_loading > 0) {\n",
       "      console.debug(\"Bokeh: BokehJS is being loaded, scheduling callback at\", now());\n",
       "      return null;\n",
       "    }\n",
       "    if (js_urls == null || js_urls.length === 0) {\n",
       "      run_callbacks();\n",
       "      return null;\n",
       "    }\n",
       "    console.debug(\"Bokeh: BokehJS not loaded, scheduling load and callback at\", now());\n",
       "    root._bokeh_is_loading = css_urls.length + js_urls.length;\n",
       "\n",
       "    function on_load() {\n",
       "      root._bokeh_is_loading--;\n",
       "      if (root._bokeh_is_loading === 0) {\n",
       "        console.debug(\"Bokeh: all BokehJS libraries/stylesheets loaded\");\n",
       "        run_callbacks()\n",
       "      }\n",
       "    }\n",
       "\n",
       "    function on_error(url) {\n",
       "      console.error(\"failed to load \" + url);\n",
       "    }\n",
       "\n",
       "    for (let i = 0; i < css_urls.length; i++) {\n",
       "      const url = css_urls[i];\n",
       "      const element = document.createElement(\"link\");\n",
       "      element.onload = on_load;\n",
       "      element.onerror = on_error.bind(null, url);\n",
       "      element.rel = \"stylesheet\";\n",
       "      element.type = \"text/css\";\n",
       "      element.href = url;\n",
       "      console.debug(\"Bokeh: injecting link tag for BokehJS stylesheet: \", url);\n",
       "      document.body.appendChild(element);\n",
       "    }\n",
       "\n",
       "    for (let i = 0; i < js_urls.length; i++) {\n",
       "      const url = js_urls[i];\n",
       "      const element = document.createElement('script');\n",
       "      element.onload = on_load;\n",
       "      element.onerror = on_error.bind(null, url);\n",
       "      element.async = false;\n",
       "      element.src = url;\n",
       "      console.debug(\"Bokeh: injecting script tag for BokehJS library: \", url);\n",
       "      document.head.appendChild(element);\n",
       "    }\n",
       "  };\n",
       "\n",
       "  function inject_raw_css(css) {\n",
       "    const element = document.createElement(\"style\");\n",
       "    element.appendChild(document.createTextNode(css));\n",
       "    document.body.appendChild(element);\n",
       "  }\n",
       "\n",
       "  const js_urls = [\"https://cdn.bokeh.org/bokeh/release/bokeh-2.4.3.min.js\", \"https://cdn.bokeh.org/bokeh/release/bokeh-gl-2.4.3.min.js\", \"https://cdn.bokeh.org/bokeh/release/bokeh-widgets-2.4.3.min.js\", \"https://cdn.bokeh.org/bokeh/release/bokeh-tables-2.4.3.min.js\", \"https://cdn.bokeh.org/bokeh/release/bokeh-mathjax-2.4.3.min.js\"];\n",
       "  const css_urls = [];\n",
       "\n",
       "  const inline_js = [    function(Bokeh) {\n",
       "      Bokeh.set_log_level(\"info\");\n",
       "    },\n",
       "function(Bokeh) {\n",
       "    }\n",
       "  ];\n",
       "\n",
       "  function run_inline_js() {\n",
       "    if (root.Bokeh !== undefined || force === true) {\n",
       "          for (let i = 0; i < inline_js.length; i++) {\n",
       "      inline_js[i].call(root, root.Bokeh);\n",
       "    }\n",
       "if (force === true) {\n",
       "        display_loaded();\n",
       "      }} else if (Date.now() < root._bokeh_timeout) {\n",
       "      setTimeout(run_inline_js, 100);\n",
       "    } else if (!root._bokeh_failed_load) {\n",
       "      console.log(\"Bokeh: BokehJS failed to load within specified timeout.\");\n",
       "      root._bokeh_failed_load = true;\n",
       "    } else if (force !== true) {\n",
       "      const cell = $(document.getElementById(\"1783\")).parents('.cell').data().cell;\n",
       "      cell.output_area.append_execute_result(NB_LOAD_WARNING)\n",
       "    }\n",
       "  }\n",
       "\n",
       "  if (root._bokeh_is_loading === 0) {\n",
       "    console.debug(\"Bokeh: BokehJS loaded, going straight to plotting\");\n",
       "    run_inline_js();\n",
       "  } else {\n",
       "    load_libs(css_urls, js_urls, function() {\n",
       "      console.debug(\"Bokeh: BokehJS plotting callback run at\", now());\n",
       "      run_inline_js();\n",
       "    });\n",
       "  }\n",
       "}(window));"
      ],
      "application/vnd.bokehjs_load.v0+json": "(function(root) {\n  function now() {\n    return new Date();\n  }\n\n  const force = true;\n\n  if (typeof root._bokeh_onload_callbacks === \"undefined\" || force === true) {\n    root._bokeh_onload_callbacks = [];\n    root._bokeh_is_loading = undefined;\n  }\n\n\n  if (typeof (root._bokeh_timeout) === \"undefined\" || force === true) {\n    root._bokeh_timeout = Date.now() + 5000;\n    root._bokeh_failed_load = false;\n  }\n\n  const NB_LOAD_WARNING = {'data': {'text/html':\n     \"<div style='background-color: #fdd'>\\n\"+\n     \"<p>\\n\"+\n     \"BokehJS does not appear to have successfully loaded. If loading BokehJS from CDN, this \\n\"+\n     \"may be due to a slow or bad network connection. Possible fixes:\\n\"+\n     \"</p>\\n\"+\n     \"<ul>\\n\"+\n     \"<li>re-rerun `output_notebook()` to attempt to load from CDN again, or</li>\\n\"+\n     \"<li>use INLINE resources instead, as so:</li>\\n\"+\n     \"</ul>\\n\"+\n     \"<code>\\n\"+\n     \"from bokeh.resources import INLINE\\n\"+\n     \"output_notebook(resources=INLINE)\\n\"+\n     \"</code>\\n\"+\n     \"</div>\"}};\n\n  function display_loaded() {\n    const el = document.getElementById(\"1783\");\n    if (el != null) {\n      el.textContent = \"BokehJS is loading...\";\n    }\n    if (root.Bokeh !== undefined) {\n      if (el != null) {\n        el.textContent = \"BokehJS \" + root.Bokeh.version + \" successfully loaded.\";\n      }\n    } else if (Date.now() < root._bokeh_timeout) {\n      setTimeout(display_loaded, 100)\n    }\n  }\n\n  function run_callbacks() {\n    try {\n      root._bokeh_onload_callbacks.forEach(function(callback) {\n        if (callback != null)\n          callback();\n      });\n    } finally {\n      delete root._bokeh_onload_callbacks\n    }\n    console.debug(\"Bokeh: all callbacks have finished\");\n  }\n\n  function load_libs(css_urls, js_urls, callback) {\n    if (css_urls == null) css_urls = [];\n    if (js_urls == null) js_urls = [];\n\n    root._bokeh_onload_callbacks.push(callback);\n    if (root._bokeh_is_loading > 0) {\n      console.debug(\"Bokeh: BokehJS is being loaded, scheduling callback at\", now());\n      return null;\n    }\n    if (js_urls == null || js_urls.length === 0) {\n      run_callbacks();\n      return null;\n    }\n    console.debug(\"Bokeh: BokehJS not loaded, scheduling load and callback at\", now());\n    root._bokeh_is_loading = css_urls.length + js_urls.length;\n\n    function on_load() {\n      root._bokeh_is_loading--;\n      if (root._bokeh_is_loading === 0) {\n        console.debug(\"Bokeh: all BokehJS libraries/stylesheets loaded\");\n        run_callbacks()\n      }\n    }\n\n    function on_error(url) {\n      console.error(\"failed to load \" + url);\n    }\n\n    for (let i = 0; i < css_urls.length; i++) {\n      const url = css_urls[i];\n      const element = document.createElement(\"link\");\n      element.onload = on_load;\n      element.onerror = on_error.bind(null, url);\n      element.rel = \"stylesheet\";\n      element.type = \"text/css\";\n      element.href = url;\n      console.debug(\"Bokeh: injecting link tag for BokehJS stylesheet: \", url);\n      document.body.appendChild(element);\n    }\n\n    for (let i = 0; i < js_urls.length; i++) {\n      const url = js_urls[i];\n      const element = document.createElement('script');\n      element.onload = on_load;\n      element.onerror = on_error.bind(null, url);\n      element.async = false;\n      element.src = url;\n      console.debug(\"Bokeh: injecting script tag for BokehJS library: \", url);\n      document.head.appendChild(element);\n    }\n  };\n\n  function inject_raw_css(css) {\n    const element = document.createElement(\"style\");\n    element.appendChild(document.createTextNode(css));\n    document.body.appendChild(element);\n  }\n\n  const js_urls = [\"https://cdn.bokeh.org/bokeh/release/bokeh-2.4.3.min.js\", \"https://cdn.bokeh.org/bokeh/release/bokeh-gl-2.4.3.min.js\", \"https://cdn.bokeh.org/bokeh/release/bokeh-widgets-2.4.3.min.js\", \"https://cdn.bokeh.org/bokeh/release/bokeh-tables-2.4.3.min.js\", \"https://cdn.bokeh.org/bokeh/release/bokeh-mathjax-2.4.3.min.js\"];\n  const css_urls = [];\n\n  const inline_js = [    function(Bokeh) {\n      Bokeh.set_log_level(\"info\");\n    },\nfunction(Bokeh) {\n    }\n  ];\n\n  function run_inline_js() {\n    if (root.Bokeh !== undefined || force === true) {\n          for (let i = 0; i < inline_js.length; i++) {\n      inline_js[i].call(root, root.Bokeh);\n    }\nif (force === true) {\n        display_loaded();\n      }} else if (Date.now() < root._bokeh_timeout) {\n      setTimeout(run_inline_js, 100);\n    } else if (!root._bokeh_failed_load) {\n      console.log(\"Bokeh: BokehJS failed to load within specified timeout.\");\n      root._bokeh_failed_load = true;\n    } else if (force !== true) {\n      const cell = $(document.getElementById(\"1783\")).parents('.cell').data().cell;\n      cell.output_area.append_execute_result(NB_LOAD_WARNING)\n    }\n  }\n\n  if (root._bokeh_is_loading === 0) {\n    console.debug(\"Bokeh: BokehJS loaded, going straight to plotting\");\n    run_inline_js();\n  } else {\n    load_libs(css_urls, js_urls, function() {\n      console.debug(\"Bokeh: BokehJS plotting callback run at\", now());\n      run_inline_js();\n    });\n  }\n}(window));"
     },
     "metadata": {},
     "output_type": "display_data"
    }
   ],
   "source": [
    "from bokeh.plotting import figure, show, output_notebook\n",
    "output_notebook()\n"
   ]
  },
  {
   "cell_type": "code",
   "execution_count": 14,
   "id": "d700bc4f-6774-4db6-b491-acc1de0d25ac",
   "metadata": {
    "tags": [
     "hide-cell"
    ]
   },
   "outputs": [],
   "source": [
    "def read_arf(arf_filename):\n",
    "    hdu1 = fits.open(arf_filename)\n",
    "    arf_data=hdu1[1].data\n",
    "    \n",
    "    emin = arf_data.ENERG_LO\n",
    "    emax = arf_data.ENERG_HI\n",
    "    arf = arf_data.SPECRESP\n",
    "\n",
    "    dE = emax - emin\n",
    "    E = emin + (emax - emin) / 2\n",
    "\n",
    "    return E, emin, emax, dE, arf\n",
    "\n",
    "def function(x, a):\n",
    "    return np.exp(- a * 1.5 / x ** 3)\n",
    "\n",
    "def absorption():\n",
    "    # From Strom & Strom 1961\n",
    "    data = np.genfromtxt(\"absorption.txt\", unpack = True, delimiter = \",\",\n",
    "                        skip_header = 1)\n",
    "    wavelength = data[0]\n",
    "    tau = data[1]\n",
    "    norm_I = data[2]\n",
    "    E = c.h * c.speed_of_light / (wavelength * 1e-10) * 6.242e15 # energy in keV\n",
    "    plt.plot(E, norm_I, label = \"data\")\n",
    "    plt.yscale(\"log\")\n",
    "    \n",
    "    # Fit\n",
    "    params, covs = curve_fit(function, E, norm_I, p0 = [0.50])\n",
    "    print(\"params: \", params)\n",
    "    \n",
    "    plt.plot(E, function(E, params[0]), label = \"Best fit\")\n",
    "    plt.ylim([1e-4, 1e1])\n",
    "    plt.legend()\n",
    "    plt.xlim([0, 2])\n",
    "\n",
    "def plot_F(ax, E, F):\n",
    "    ax.plot(E, F, color = \"black\", linewidth = 3)\n",
    "    ax.set_xscale(\"log\")\n",
    "    ax.set_yscale(\"log\")\n",
    "    ax.set_xlabel(\"Energy [keV]\")\n",
    "    ax.set_ylabel(\"F(E) [ph/cm2/s/keV]\")\n",
    "\n",
    "def plot_EF(ax, E, EF):\n",
    "    ax.plot(E, EF, color = \"black\", linewidth = 3)\n",
    "    ax.set_xscale(\"log\")\n",
    "    ax.set_yscale(\"log\")\n",
    "    ax.set_xlabel(\"Energy [keV]\")\n",
    "    ax.set_ylabel(\"EF(E) [ph/cm2/s]\")\n",
    "\n",
    "def calculate_norm_from_flux(flux, Gamma, Emin, Emax):\n",
    "    return flux * (-Gamma + 2) / (Emax**(-Gamma + 2) - Emin**(-Gamma + 2)) * 6.242e8\n",
    "\n",
    "def calculate_countrate(norm, Gamma, n_H, Eband, instrument, model):\n",
    "    if(instrument == \"MXT\"):\n",
    "        E, emin, emax, dE, arf = read_arf(\"MXT_FM_PANTER_FULL-ALL-1.0.arf\")\n",
    "    else:\n",
    "        E, emin, emax, dE, arf = read_arf(\"ECL-RSP-ARF_20211023T01.fits\")\n",
    "\n",
    "    if((Eband[0] <= E[0] - dE[0]) or (Eband[-1] >= E[-1] + dE[-1])):\n",
    "        print(\"ERROR: energy band outside the arf energy range !\")\n",
    "    else:\n",
    "        E_r = E[(E>=Eband[0]) & (E<=Eband[1])]\n",
    "        dE_r = dE[(E>=Eband[0]) & (E<=Eband[1])]\n",
    "        arf_r = arf[(E>=Eband[0]) & (E<=Eband[1])]\n",
    "        emax_r = emax[(E>=Eband[0]) & (E<=Eband[1])]\n",
    "        emin_r = emin[(E>=Eband[0]) & (E<=Eband[1])]\n",
    "        \n",
    "        a = 0.286733\n",
    "        \n",
    "        if(model == \"powerlaw\"):\n",
    "            F = norm * E_r**(-Gamma) * np.exp(- n_H * a / E_r**3)\n",
    "            countrate = sum(arf_r * norm * E_r**(-Gamma) * np.exp(- n_H * a / E_r**3) * dE_r)\n",
    "            \n",
    "        elif(model == \"cutoffpl\"):\n",
    "            F = norm * E_r**(-Gamma) * np.exp(-E_r / E_cut) * np.exp(- n_H * a / E_r**3)\n",
    "            countrate = sum(arf_r * norm * E_r**(-Gamma) * np.exp(-E_r / E_cut) * np.exp(- n_H * a / E_r**3) * dE_r)\n",
    "        \n",
    "        elif(model == \"bbody\"):\n",
    "            F = norm * 8.0525 * E_r**2 / (kT**4 * (np.exp(E_r/kT) - 1))# * np.exp(- n_H * a / E_r**3)\n",
    "            countrate = sum(arf_r * norm * 8.0525 * E_r**3 / (kT**4 * (np.exp(E_r/kT) - 1)) * np.exp(- n_H * a / E_r**3) * dE_r)\n",
    "            \n",
    "        else: # Brokenpowerlaw\n",
    "            F = np.ones(len(E_r))\n",
    "            countrate = 0\n",
    "            for i in range(len(E_r)):\n",
    "                if(E_r[i] <= E_break):\n",
    "                    F[i] = norm * E_r[i]**(-alpha) * np.exp(- n_H * a / E_r[i]**3)\n",
    "                    countrate += arf_r[i] * norm * E_r[i]**(-alpha) * np.exp(- n_H * a / E_r[i]**3) * dE_r[i]\n",
    "                    \n",
    "                else:\n",
    "                    F[i] = norm * E_r[i]**(-beta) * E_break**(beta - alpha) * np.exp(- n_H * a / E_r[i]**3)\n",
    "                    countrate += arf_r[i] * norm * E_r[i]**(-beta) * E_break**(beta - alpha) * dE_r[i] * np.exp(- n_H * a / E_r[i]**3)\n",
    "        #d = {\"Energy [keV]\": E_r, \"Flux ph/cm2/s/keV\": F}\n",
    "        #df = pd.DataFrame(data = d)\n",
    "        #fig = px.line(df, x = \"Energy [keV]\", y = \"Flux ph/cm2/s/keV\", log_x = True, log_y = True)\n",
    "        #fig.show()\n",
    "        p = figure()\n",
    "        p = figure(plot_width = 500, plot_height = 300, y_axis_type = \"log\",\n",
    "                   x_axis_type = \"log\", y_axis_label = \"ph/cm2/s/keV\", x_axis_label = \"Energy [keV]\")\n",
    "        p.line(E_r, F, color = \"red\", line_width = 3)#, label = \"Source\")\n",
    "        show(p)\n",
    "        #plt.xscale(\"log\")\n",
    "        #plt.yscale(\"log\")\n",
    "        #plt.xlabel(\"Energy [keV]\")\n",
    "        #plt.ylabel(\"ph/cm2/s/keV\")\n",
    "        return countrate\n",
    "\n",
    "def calculate_background(instrument, Eband):\n",
    "    if(instrument == \"ECLAIRs\"):\n",
    "        E, emin, emax, dE, arf = read_arf(\"ECL-RSP-ARF_20211023T01.fits\")\n",
    "    else:\n",
    "        E, emin, emax, dE, arf = read_arf(\"MXT_FM_PANTER_FULL-ALL-1.0.arf\")\n",
    "        \n",
    "    if((Eband[0] <= E[0] - dE[0]) or (Eband[-1] >= E[-1] + dE[-1])):\n",
    "        print(\"ERROR: energy band outside the arf energy range !\")\n",
    "    else:\n",
    "        E_r = E[(E>=Eband[0]) & (E<=Eband[1])]\n",
    "        dE_r = dE[(E>=Eband[0]) & (E<=Eband[1])]\n",
    "        arf_r = arf[(E>=Eband[0]) & (E<=Eband[1])]\n",
    "        emax_r = emax[(E>=Eband[0]) & (E<=Eband[1])]\n",
    "        emin_r = emin[(E>=Eband[0]) & (E<=Eband[1])]\n",
    "        \n",
    "        if(instrument == \"ECLAIRs\"):\n",
    "            # 2SJPL Model from Moretti+2009\n",
    "            Gamma_1 = 1.4\n",
    "            Gamma_2 = 2.88\n",
    "            E_B = 29             # keV\n",
    "            norm = 0.109         # ph/cm2/s/keV/sr\n",
    "            F = norm / ((E_r / E_B)**(Gamma_1) + (E_r / E_B)**(Gamma_2))\n",
    "            countrate = sum(arf_r / (0.24 * 1024) * 0.16 * 0.3436 * 80 * 80 * norm / ((E_r / E_B)**(Gamma_1) + (E_r / E_B)**(Gamma_2)) * dE_r)\n",
    "            \n",
    "        else:\n",
    "            # Powerlaw Model from Moretti+2009\n",
    "            norm = 3.67e-3 * 65318 * (13.5*0.0002777)**2 #norm in ph/cm2/s/keV/deg2 * nb pixel contributing to the PSF * (13.5 arcsec/pixel)**2\n",
    "            Gamma = 1.47\n",
    "            F = norm * E_r**(-Gamma)\n",
    "            countrate = sum(arf_r * norm * E_r**(-Gamma) * dE_r)\n",
    "        \n",
    "        #plt.plot(E_r, F, color = \"blue\", label = \"CXB\")\n",
    "        #plt.legend()\n",
    "    return countrate\n",
    "\n",
    "def calculate_exposure(SNR, instrument, Eband):\n",
    "    print(\"Emin  = \", Eband[0], \"keV\")\n",
    "    print(\"Emax  = \", Eband[1], \"keV\")\n",
    "    print(\"norm  = \", f'{norm:.4f}', \"ph/s/cm2/keV\")\n",
    "    \n",
    "    if(model == \"powerlaw\"):\n",
    "        print(\"Gamma = \", Gamma)\n",
    "    elif(model == \"bknpowerlaw\"):\n",
    "        print(\"alpha = \", alpha)\n",
    "        print(\"beta  = \", beta)\n",
    "        print(\"E_break = \", E_break, \"keV\")\n",
    "    else:\n",
    "        print(\"Gamma = \", Gamma)\n",
    "        print(\"E_cut = \", E_cut)\n",
    "    print(\"n_H   = \", n_H, \"e21 cm-2\")\n",
    "    \n",
    "    source = calculate_countrate(norm, Gamma, n_H, Eband, instrument, model)\n",
    "    if(instrument == \"MXT\"):\n",
    "        \n",
    "        background = calculate_background(\"MXT\", Eband)\n",
    "        exposure = (SNR  / source * np.sqrt(source + background))**2\n",
    "    else:\n",
    "        background = calculate_background(\"ECLAIRs\", Eband)\n",
    "        exposure = (SNR  / source * np.sqrt(source / 0.4 + background))**2 # Skinner+2008\n",
    "    \n",
    "    print(\"Background =\", f'{background:.4f}', \"c/s in the energy band\", Eband, \"keV.\")\n",
    "    print(\"Source =\", f'{source:.4f}', \"c/s in the energy band\", Eband, \"keV.\")\n",
    "    print(instrument, \": need an exposure time of\", f'{exposure:.2f}', \"seconds for a SNR =\", SNR, \"over the energy band\", Eband, \"keV.\")"
   ]
  },
  {
   "cell_type": "markdown",
   "id": "0ffeab6c-b23e-448d-86ff-1272b17b61d8",
   "metadata": {},
   "source": [
    "This notebook uses ancillary response files of MXT and ECLAIRs in order to calculate the exposure time needed to achieve a signal to noise ratio given the spectrum of a source.\n",
    "#### 1. Choose the model and define parameters\n",
    "**Four types** of models can be used: \n",
    "\n",
    "##### Simple powerlaw, \"**powerlaw**\":\n",
    "$$\n",
    "N(E) = \\phi_0 E^{-\\Gamma}\n",
    "$$\n",
    "- $\\phi_0$: flux normalization in **ph/cm2/s/keV**, named \"**norm**\" in this notebook;\n",
    "- $\\Gamma$: photon index, named \"**Gamma**\" in this notebook.\n",
    "\n",
    "**NB**: for this model, you can alternatively calculate the flux normalization $\\phi_0$ by calling **calculate_norm_from_flux(unabsorbed_flux, Gamma, Emin, Emax)** and giving the ***unabsorbed flux*** in **ergs/cm2/s** between **Emin keV** and **Emax keV**.\n",
    "\n",
    "##### Broken powerlaw, \"**bknpowerlaw**\":\n",
    "$$\n",
    "N(E) = \\left\\{\n",
    "    \\begin{array}{ll}\n",
    "        \\phi_0 E^{-\\alpha} & \\mbox{if } E \\leq E_\\mathrm{break} \\\\\n",
    "        \\phi_0 E_\\mathrm{break}^{\\beta-\\alpha} E^{-\\beta} & \\mbox{if } E > E_\\mathrm{break}\n",
    "    \\end{array}\n",
    "\\right.\n",
    "$$\n",
    "- $\\phi_0$: flux normalization in **ph/cm2/s/keV**, named \"**norm**\" in this notebook;\n",
    "- $E_\\mathrm{break}$: break energy in **keV**, named \"**E_break**\" in this notebook;\n",
    "- $\\alpha$: photon index of the low energy powerlaw, named \"**alpha**\" in this notebook;\n",
    "- $\\beta$: photon index of the high energy powerlaw, named \"**beta**\" in this notebook.\n",
    "\n",
    "##### Cutoff powerlaw, \"**cutoffpl**\":\n",
    "$$\n",
    "N(E) = \\phi_0 E^{-\\Gamma} e^\\frac{E}{E_\\mathrm{cut}} \n",
    "$$\n",
    "- $\\phi_0$: flux normalization in **ph/cm2/s/keV**, named \"**norm**\" in this notebook;\n",
    "- $\\Gamma$: photon index, named \"**Gamma**\" in this notebook;\n",
    "- $E_\\mathrm{cut}$: cutoff energy in **keV**, \"**E_cut**\" in this notebook.\n",
    "\n",
    "##### Black body, \"**bbody**\":\n",
    "Description of the black body model in construction.\n",
    "\n",
    "For all the models, absorption is taken into account thanks to the hydrogen density column parameter **n_H**, in **$10^{21}$cm$^{-2}$**.\n",
    "\n",
    "#### 2. Calculate the exposure\n",
    "Once you have defined your model and the corresponding parameters, you can call \"**calculate_exposure(SNR, instrument, Eband)**\" to calculate the exposure time needed. This function has three arguments:\n",
    "- \"**SNR**\": Signal to Noise Ratio;\n",
    "- \"**instrument**\": you can choose between \"MXT\" or \"ECLAIRs\";\n",
    "- \"**Eband**\": energy band for which you want to calculate the exposure time, [**Emin**, **Emax**], **Emin** and **Emax** in **keV**.\n"
   ]
  },
  {
   "cell_type": "markdown",
   "id": "98b31d84",
   "metadata": {},
   "source": [
    "To edit the cells, `click on the rocket` at the top of this page, and then `click on the \"Live Code\"` button. Once your cell is edited you can click on \"run\""
   ]
  },
  {
   "cell_type": "markdown",
   "id": "bbc1a0d0",
   "metadata": {},
   "source": []
  },
  {
   "cell_type": "markdown",
   "id": "a28d4138-aa18-4064-8cea-0b58bceb295c",
   "metadata": {},
   "source": [
    "### Few examples\n",
    "#### Powerlaw (example for the Crab)"
   ]
  },
  {
   "cell_type": "markdown",
   "id": "4d592c89",
   "metadata": {},
   "source": [
    "Model and parameters:"
   ]
  },
  {
   "cell_type": "code",
   "execution_count": 15,
   "id": "99163637-8423-4911-b01d-85a87248c431",
   "metadata": {},
   "outputs": [],
   "source": [
    "\n",
    "model = \"powerlaw\"\n",
    "norm  = 10         # Flux normalisation in ph/cm2/s/keV\n",
    "Gamma = 2.1        # Photon index\n",
    "n_H   = 4.5        # Density column in 1e21 cm-2\n"
   ]
  },
  {
   "cell_type": "markdown",
   "id": "109a841a",
   "metadata": {},
   "source": [
    "Exposure time:"
   ]
  },
  {
   "cell_type": "code",
   "execution_count": 16,
   "id": "2911f63a",
   "metadata": {},
   "outputs": [
    {
     "name": "stdout",
     "output_type": "stream",
     "text": [
      "Emin  =  4 keV\n",
      "Emax  =  150 keV\n",
      "norm  =  10.0000 ph/s/cm2/keV\n",
      "Gamma =  2.1\n",
      "n_H   =  4.5 e21 cm-2\n"
     ]
    },
    {
     "data": {
      "text/html": [
       "\n",
       "  <div class=\"bk-root\" id=\"614a7856-4bbe-4369-a590-98b043d45ebb\" data-root-id=\"1815\"></div>\n"
      ]
     },
     "metadata": {},
     "output_type": "display_data"
    },
    {
     "data": {
      "application/javascript": [
       "(function(root) {\n",
       "  function embed_document(root) {\n",
       "  const docs_json = {\"935f5d93-1f1f-4c9f-a8c2-7afd8d7ea444\":{\"defs\":[],\"roots\":{\"references\":[{\"attributes\":{\"below\":[{\"id\":\"1824\"}],\"center\":[{\"id\":\"1827\"},{\"id\":\"1831\"}],\"height\":300,\"left\":[{\"id\":\"1828\"}],\"renderers\":[{\"id\":\"1850\"}],\"title\":{\"id\":\"1907\"},\"toolbar\":{\"id\":\"1839\"},\"width\":500,\"x_range\":{\"id\":\"1816\"},\"x_scale\":{\"id\":\"1820\"},\"y_range\":{\"id\":\"1818\"},\"y_scale\":{\"id\":\"1822\"}},\"id\":\"1815\",\"subtype\":\"Figure\",\"type\":\"Plot\"},{\"attributes\":{\"line_alpha\":0.1,\"line_color\":\"red\",\"line_width\":3,\"x\":{\"field\":\"x\"},\"y\":{\"field\":\"y\"}},\"id\":\"1848\",\"type\":\"Line\"},{\"attributes\":{},\"id\":\"1833\",\"type\":\"WheelZoomTool\"},{\"attributes\":{},\"id\":\"1915\",\"type\":\"UnionRenderers\"},{\"attributes\":{},\"id\":\"1837\",\"type\":\"HelpTool\"},{\"attributes\":{},\"id\":\"1911\",\"type\":\"AllLabels\"},{\"attributes\":{},\"id\":\"1820\",\"type\":\"LogScale\"},{\"attributes\":{},\"id\":\"1836\",\"type\":\"ResetTool\"},{\"attributes\":{},\"id\":\"1835\",\"type\":\"SaveTool\"},{\"attributes\":{\"bottom_units\":\"screen\",\"coordinates\":null,\"fill_alpha\":0.5,\"fill_color\":\"lightgrey\",\"group\":null,\"left_units\":\"screen\",\"level\":\"overlay\",\"line_alpha\":1.0,\"line_color\":\"black\",\"line_dash\":[4,4],\"line_width\":2,\"right_units\":\"screen\",\"syncable\":false,\"top_units\":\"screen\"},\"id\":\"1838\",\"type\":\"BoxAnnotation\"},{\"attributes\":{},\"id\":\"1822\",\"type\":\"LogScale\"},{\"attributes\":{\"data\":{\"x\":{\"__ndarray__\":\"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\",\"dtype\":\"float32\",\"order\":\"little\",\"shape\":[1169]},\"y\":{\"__ndarray__\":\"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\",\"dtype\":\"float32\",\"order\":\"little\",\"shape\":[1169]}},\"selected\":{\"id\":\"1916\"},\"selection_policy\":{\"id\":\"1915\"}},\"id\":\"1846\",\"type\":\"ColumnDataSource\"},{\"attributes\":{\"num_minor_ticks\":10},\"id\":\"1829\",\"type\":\"LogTicker\"},{\"attributes\":{\"coordinates\":null,\"group\":null},\"id\":\"1907\",\"type\":\"Title\"},{\"attributes\":{\"coordinates\":null,\"data_source\":{\"id\":\"1846\"},\"glyph\":{\"id\":\"1847\"},\"group\":null,\"hover_glyph\":null,\"muted_glyph\":{\"id\":\"1849\"},\"nonselection_glyph\":{\"id\":\"1848\"},\"view\":{\"id\":\"1851\"}},\"id\":\"1850\",\"type\":\"GlyphRenderer\"},{\"attributes\":{\"tools\":[{\"id\":\"1832\"},{\"id\":\"1833\"},{\"id\":\"1834\"},{\"id\":\"1835\"},{\"id\":\"1836\"},{\"id\":\"1837\"}]},\"id\":\"1839\",\"type\":\"Toolbar\"},{\"attributes\":{\"line_color\":\"red\",\"line_width\":3,\"x\":{\"field\":\"x\"},\"y\":{\"field\":\"y\"}},\"id\":\"1847\",\"type\":\"Line\"},{\"attributes\":{\"ticker\":null},\"id\":\"1910\",\"type\":\"LogTickFormatter\"},{\"attributes\":{},\"id\":\"1816\",\"type\":\"DataRange1d\"},{\"attributes\":{\"line_alpha\":0.2,\"line_color\":\"red\",\"line_width\":3,\"x\":{\"field\":\"x\"},\"y\":{\"field\":\"y\"}},\"id\":\"1849\",\"type\":\"Line\"},{\"attributes\":{},\"id\":\"1914\",\"type\":\"AllLabels\"},{\"attributes\":{\"axis_label\":\"ph/cm2/s/keV\",\"coordinates\":null,\"formatter\":{\"id\":\"1910\"},\"group\":null,\"major_label_policy\":{\"id\":\"1911\"},\"ticker\":{\"id\":\"1829\"}},\"id\":\"1828\",\"type\":\"LogAxis\"},{\"attributes\":{},\"id\":\"1832\",\"type\":\"PanTool\"},{\"attributes\":{\"num_minor_ticks\":10},\"id\":\"1825\",\"type\":\"LogTicker\"},{\"attributes\":{},\"id\":\"1818\",\"type\":\"DataRange1d\"},{\"attributes\":{\"overlay\":{\"id\":\"1838\"}},\"id\":\"1834\",\"type\":\"BoxZoomTool\"},{\"attributes\":{\"axis_label\":\"Energy [keV]\",\"coordinates\":null,\"formatter\":{\"id\":\"1913\"},\"group\":null,\"major_label_policy\":{\"id\":\"1914\"},\"ticker\":{\"id\":\"1825\"}},\"id\":\"1824\",\"type\":\"LogAxis\"},{\"attributes\":{\"ticker\":null},\"id\":\"1913\",\"type\":\"LogTickFormatter\"},{\"attributes\":{\"axis\":{\"id\":\"1824\"},\"coordinates\":null,\"group\":null,\"ticker\":null},\"id\":\"1827\",\"type\":\"Grid\"},{\"attributes\":{\"source\":{\"id\":\"1846\"}},\"id\":\"1851\",\"type\":\"CDSView\"},{\"attributes\":{},\"id\":\"1916\",\"type\":\"Selection\"},{\"attributes\":{\"axis\":{\"id\":\"1828\"},\"coordinates\":null,\"dimension\":1,\"group\":null,\"ticker\":null},\"id\":\"1831\",\"type\":\"Grid\"}],\"root_ids\":[\"1815\"]},\"title\":\"Bokeh Application\",\"version\":\"2.4.3\"}};\n",
       "  const render_items = [{\"docid\":\"935f5d93-1f1f-4c9f-a8c2-7afd8d7ea444\",\"root_ids\":[\"1815\"],\"roots\":{\"1815\":\"614a7856-4bbe-4369-a590-98b043d45ebb\"}}];\n",
       "  root.Bokeh.embed.embed_items_notebook(docs_json, render_items);\n",
       "  }\n",
       "  if (root.Bokeh !== undefined) {\n",
       "    embed_document(root);\n",
       "  } else {\n",
       "    let attempts = 0;\n",
       "    const timer = setInterval(function(root) {\n",
       "      if (root.Bokeh !== undefined) {\n",
       "        clearInterval(timer);\n",
       "        embed_document(root);\n",
       "      } else {\n",
       "        attempts++;\n",
       "        if (attempts > 100) {\n",
       "          clearInterval(timer);\n",
       "          console.log(\"Bokeh: ERROR: Unable to run BokehJS code because BokehJS library is missing\");\n",
       "        }\n",
       "      }\n",
       "    }, 10, root)\n",
       "  }\n",
       "})(window);"
      ],
      "application/vnd.bokehjs_exec.v0+json": ""
     },
     "metadata": {
      "application/vnd.bokehjs_exec.v0+json": {
       "id": "1815"
      }
     },
     "output_type": "display_data"
    },
    {
     "name": "stdout",
     "output_type": "stream",
     "text": [
      "Background = 3587.2578 c/s in the energy band [4, 150] keV.\n",
      "Source = 523.9236 c/s in the energy band [4, 150] keV.\n",
      "ECLAIRs : need an exposure time of 1.78 seconds for a SNR = 10 over the energy band [4, 150] keV.\n"
     ]
    }
   ],
   "source": [
    "calculate_exposure(SNR = 10, instrument = \"ECLAIRs\", Eband = [4, 150])"
   ]
  },
  {
   "cell_type": "markdown",
   "id": "f0e0d159-7d2f-45c5-b6a5-74c5dc5f31ac",
   "metadata": {},
   "source": [
    "Alternatively, you can give the unabsorbed flux to calculate the flux normalization:"
   ]
  },
  {
   "cell_type": "code",
   "execution_count": 17,
   "id": "80a4e1ae-8190-4b2a-a9b7-4a728cb17237",
   "metadata": {},
   "outputs": [
    {
     "name": "stdout",
     "output_type": "stream",
     "text": [
      "Emin  =  0.2 keV\n",
      "Emax  =  10 keV\n",
      "norm  =  10.0805 ph/s/cm2/keV\n",
      "Gamma =  2.1\n",
      "n_H   =  4.5 e21 cm-2\n"
     ]
    },
    {
     "data": {
      "text/html": [
       "\n",
       "  <div class=\"bk-root\" id=\"742e9b21-884b-411b-b396-a12646056a01\" data-root-id=\"2004\"></div>\n"
      ]
     },
     "metadata": {},
     "output_type": "display_data"
    },
    {
     "data": {
      "application/javascript": [
       "(function(root) {\n",
       "  function embed_document(root) {\n",
       "  const docs_json = {\"4de1cae3-4654-48d7-947f-22c2dea09b8f\":{\"defs\":[],\"roots\":{\"references\":[{\"attributes\":{\"below\":[{\"id\":\"2013\"}],\"center\":[{\"id\":\"2016\"},{\"id\":\"2020\"}],\"height\":300,\"left\":[{\"id\":\"2017\"}],\"renderers\":[{\"id\":\"2039\"}],\"title\":{\"id\":\"2107\"},\"toolbar\":{\"id\":\"2028\"},\"width\":500,\"x_range\":{\"id\":\"2005\"},\"x_scale\":{\"id\":\"2009\"},\"y_range\":{\"id\":\"2007\"},\"y_scale\":{\"id\":\"2011\"}},\"id\":\"2004\",\"subtype\":\"Figure\",\"type\":\"Plot\"},{\"attributes\":{\"data\":{\"x\":{\"__ndarray__\":\"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\",\"dtype\":\"float32\",\"order\":\"little\",\"shape\":[1014]},\"y\":{\"__ndarray__\":\"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\",\"dtype\":\"float32\",\"order\":\"little\",\"shape\":[1014]}},\"selected\":{\"id\":\"2116\"},\"selection_policy\":{\"id\":\"2115\"}},\"id\":\"2035\",\"type\":\"ColumnDataSource\"},{\"attributes\":{\"line_alpha\":0.2,\"line_color\":\"red\",\"line_width\":3,\"x\":{\"field\":\"x\"},\"y\":{\"field\":\"y\"}},\"id\":\"2038\",\"type\":\"Line\"},{\"attributes\":{\"overlay\":{\"id\":\"2027\"}},\"id\":\"2023\",\"type\":\"BoxZoomTool\"},{\"attributes\":{},\"id\":\"2007\",\"type\":\"DataRange1d\"},{\"attributes\":{},\"id\":\"2111\",\"type\":\"AllLabels\"},{\"attributes\":{\"coordinates\":null,\"group\":null},\"id\":\"2107\",\"type\":\"Title\"},{\"attributes\":{\"ticker\":null},\"id\":\"2113\",\"type\":\"LogTickFormatter\"},{\"attributes\":{\"coordinates\":null,\"data_source\":{\"id\":\"2035\"},\"glyph\":{\"id\":\"2036\"},\"group\":null,\"hover_glyph\":null,\"muted_glyph\":{\"id\":\"2038\"},\"nonselection_glyph\":{\"id\":\"2037\"},\"view\":{\"id\":\"2040\"}},\"id\":\"2039\",\"type\":\"GlyphRenderer\"},{\"attributes\":{\"line_alpha\":0.1,\"line_color\":\"red\",\"line_width\":3,\"x\":{\"field\":\"x\"},\"y\":{\"field\":\"y\"}},\"id\":\"2037\",\"type\":\"Line\"},{\"attributes\":{},\"id\":\"2025\",\"type\":\"ResetTool\"},{\"attributes\":{\"axis\":{\"id\":\"2013\"},\"coordinates\":null,\"group\":null,\"ticker\":null},\"id\":\"2016\",\"type\":\"Grid\"},{\"attributes\":{\"axis\":{\"id\":\"2017\"},\"coordinates\":null,\"dimension\":1,\"group\":null,\"ticker\":null},\"id\":\"2020\",\"type\":\"Grid\"},{\"attributes\":{\"tools\":[{\"id\":\"2021\"},{\"id\":\"2022\"},{\"id\":\"2023\"},{\"id\":\"2024\"},{\"id\":\"2025\"},{\"id\":\"2026\"}]},\"id\":\"2028\",\"type\":\"Toolbar\"},{\"attributes\":{},\"id\":\"2115\",\"type\":\"UnionRenderers\"},{\"attributes\":{},\"id\":\"2114\",\"type\":\"AllLabels\"},{\"attributes\":{},\"id\":\"2024\",\"type\":\"SaveTool\"},{\"attributes\":{},\"id\":\"2022\",\"type\":\"WheelZoomTool\"},{\"attributes\":{\"ticker\":null},\"id\":\"2110\",\"type\":\"LogTickFormatter\"},{\"attributes\":{\"bottom_units\":\"screen\",\"coordinates\":null,\"fill_alpha\":0.5,\"fill_color\":\"lightgrey\",\"group\":null,\"left_units\":\"screen\",\"level\":\"overlay\",\"line_alpha\":1.0,\"line_color\":\"black\",\"line_dash\":[4,4],\"line_width\":2,\"right_units\":\"screen\",\"syncable\":false,\"top_units\":\"screen\"},\"id\":\"2027\",\"type\":\"BoxAnnotation\"},{\"attributes\":{},\"id\":\"2021\",\"type\":\"PanTool\"},{\"attributes\":{\"source\":{\"id\":\"2035\"}},\"id\":\"2040\",\"type\":\"CDSView\"},{\"attributes\":{},\"id\":\"2005\",\"type\":\"DataRange1d\"},{\"attributes\":{},\"id\":\"2009\",\"type\":\"LogScale\"},{\"attributes\":{\"num_minor_ticks\":10},\"id\":\"2014\",\"type\":\"LogTicker\"},{\"attributes\":{},\"id\":\"2116\",\"type\":\"Selection\"},{\"attributes\":{\"line_color\":\"red\",\"line_width\":3,\"x\":{\"field\":\"x\"},\"y\":{\"field\":\"y\"}},\"id\":\"2036\",\"type\":\"Line\"},{\"attributes\":{\"axis_label\":\"Energy [keV]\",\"coordinates\":null,\"formatter\":{\"id\":\"2113\"},\"group\":null,\"major_label_policy\":{\"id\":\"2114\"},\"ticker\":{\"id\":\"2014\"}},\"id\":\"2013\",\"type\":\"LogAxis\"},{\"attributes\":{},\"id\":\"2011\",\"type\":\"LogScale\"},{\"attributes\":{\"num_minor_ticks\":10},\"id\":\"2018\",\"type\":\"LogTicker\"},{\"attributes\":{},\"id\":\"2026\",\"type\":\"HelpTool\"},{\"attributes\":{\"axis_label\":\"ph/cm2/s/keV\",\"coordinates\":null,\"formatter\":{\"id\":\"2110\"},\"group\":null,\"major_label_policy\":{\"id\":\"2111\"},\"ticker\":{\"id\":\"2018\"}},\"id\":\"2017\",\"type\":\"LogAxis\"}],\"root_ids\":[\"2004\"]},\"title\":\"Bokeh Application\",\"version\":\"2.4.3\"}};\n",
       "  const render_items = [{\"docid\":\"4de1cae3-4654-48d7-947f-22c2dea09b8f\",\"root_ids\":[\"2004\"],\"roots\":{\"2004\":\"742e9b21-884b-411b-b396-a12646056a01\"}}];\n",
       "  root.Bokeh.embed.embed_items_notebook(docs_json, render_items);\n",
       "  }\n",
       "  if (root.Bokeh !== undefined) {\n",
       "    embed_document(root);\n",
       "  } else {\n",
       "    let attempts = 0;\n",
       "    const timer = setInterval(function(root) {\n",
       "      if (root.Bokeh !== undefined) {\n",
       "        clearInterval(timer);\n",
       "        embed_document(root);\n",
       "      } else {\n",
       "        attempts++;\n",
       "        if (attempts > 100) {\n",
       "          clearInterval(timer);\n",
       "          console.log(\"Bokeh: ERROR: Unable to run BokehJS code because BokehJS library is missing\");\n",
       "        }\n",
       "      }\n",
       "    }, 10, root)\n",
       "  }\n",
       "})(window);"
      ],
      "application/vnd.bokehjs_exec.v0+json": ""
     },
     "metadata": {
      "application/vnd.bokehjs_exec.v0+json": {
       "id": "2004"
      }
     },
     "output_type": "display_data"
    },
    {
     "name": "stdout",
     "output_type": "stream",
     "text": [
      "Background = 0.2285 c/s in the energy band [0.2, 10] keV.\n",
      "Source = 131.8547 c/s in the energy band [0.2, 10] keV.\n",
      "MXT : need an exposure time of 0.19 seconds for a SNR = 5 over the energy band [0.2, 10] keV.\n"
     ]
    }
   ],
   "source": [
    "unabsorbed_flux = 2.24e-8   # Unabsorbed flux in ergs/cm2/s between 2-10 keV\n",
    "norm = calculate_norm_from_flux(unabsorbed_flux, Gamma, 2, 10)\n",
    "calculate_exposure(SNR = 5, instrument = \"MXT\", Eband = [0.2, 10])"
   ]
  },
  {
   "cell_type": "markdown",
   "id": "2a306a0d-990c-404a-adc9-a7611e2c4f52",
   "metadata": {},
   "source": [
    "#### Broken Powerlaw"
   ]
  },
  {
   "cell_type": "code",
   "execution_count": 18,
   "id": "8cb90d8f-ef3f-46c6-b131-77cd1ca9883c",
   "metadata": {},
   "outputs": [
    {
     "name": "stdout",
     "output_type": "stream",
     "text": [
      "Emin  =  4 keV\n",
      "Emax  =  150 keV\n",
      "norm  =  0.1000 ph/s/cm2/keV\n",
      "alpha =  1.3\n",
      "beta  =  2.6\n",
      "E_break =  30 keV\n",
      "n_H   =  2.0 e21 cm-2\n"
     ]
    },
    {
     "data": {
      "text/html": [
       "\n",
       "  <div class=\"bk-root\" id=\"5af8f101-dd3e-428d-8bbe-0a185bfbfd1d\" data-root-id=\"2204\"></div>\n"
      ]
     },
     "metadata": {},
     "output_type": "display_data"
    },
    {
     "data": {
      "application/javascript": [
       "(function(root) {\n",
       "  function embed_document(root) {\n",
       "  const docs_json = {\"81df66e9-f7ef-4ed4-baf7-f21809de7e90\":{\"defs\":[],\"roots\":{\"references\":[{\"attributes\":{\"below\":[{\"id\":\"2213\"}],\"center\":[{\"id\":\"2216\"},{\"id\":\"2220\"}],\"height\":300,\"left\":[{\"id\":\"2217\"}],\"renderers\":[{\"id\":\"2239\"}],\"title\":{\"id\":\"2318\"},\"toolbar\":{\"id\":\"2228\"},\"width\":500,\"x_range\":{\"id\":\"2205\"},\"x_scale\":{\"id\":\"2209\"},\"y_range\":{\"id\":\"2207\"},\"y_scale\":{\"id\":\"2211\"}},\"id\":\"2204\",\"subtype\":\"Figure\",\"type\":\"Plot\"},{\"attributes\":{\"axis_label\":\"Energy [keV]\",\"coordinates\":null,\"formatter\":{\"id\":\"2324\"},\"group\":null,\"major_label_policy\":{\"id\":\"2325\"},\"ticker\":{\"id\":\"2214\"}},\"id\":\"2213\",\"type\":\"LogAxis\"},{\"attributes\":{},\"id\":\"2207\",\"type\":\"DataRange1d\"},{\"attributes\":{\"coordinates\":null,\"data_source\":{\"id\":\"2235\"},\"glyph\":{\"id\":\"2236\"},\"group\":null,\"hover_glyph\":null,\"muted_glyph\":{\"id\":\"2238\"},\"nonselection_glyph\":{\"id\":\"2237\"},\"view\":{\"id\":\"2240\"}},\"id\":\"2239\",\"type\":\"GlyphRenderer\"},{\"attributes\":{\"num_minor_ticks\":10},\"id\":\"2218\",\"type\":\"LogTicker\"},{\"attributes\":{\"line_alpha\":0.2,\"line_color\":\"red\",\"line_width\":3,\"x\":{\"field\":\"x\"},\"y\":{\"field\":\"y\"}},\"id\":\"2238\",\"type\":\"Line\"},{\"attributes\":{},\"id\":\"2327\",\"type\":\"Selection\"},{\"attributes\":{},\"id\":\"2226\",\"type\":\"HelpTool\"},{\"attributes\":{\"axis\":{\"id\":\"2217\"},\"coordinates\":null,\"dimension\":1,\"group\":null,\"ticker\":null},\"id\":\"2220\",\"type\":\"Grid\"},{\"attributes\":{\"axis_label\":\"ph/cm2/s/keV\",\"coordinates\":null,\"formatter\":{\"id\":\"2321\"},\"group\":null,\"major_label_policy\":{\"id\":\"2322\"},\"ticker\":{\"id\":\"2218\"}},\"id\":\"2217\",\"type\":\"LogAxis\"},{\"attributes\":{\"ticker\":null},\"id\":\"2324\",\"type\":\"LogTickFormatter\"},{\"attributes\":{\"source\":{\"id\":\"2235\"}},\"id\":\"2240\",\"type\":\"CDSView\"},{\"attributes\":{},\"id\":\"2222\",\"type\":\"WheelZoomTool\"},{\"attributes\":{\"coordinates\":null,\"group\":null},\"id\":\"2318\",\"type\":\"Title\"},{\"attributes\":{},\"id\":\"2221\",\"type\":\"PanTool\"},{\"attributes\":{\"axis\":{\"id\":\"2213\"},\"coordinates\":null,\"group\":null,\"ticker\":null},\"id\":\"2216\",\"type\":\"Grid\"},{\"attributes\":{\"overlay\":{\"id\":\"2227\"}},\"id\":\"2223\",\"type\":\"BoxZoomTool\"},{\"attributes\":{},\"id\":\"2224\",\"type\":\"SaveTool\"},{\"attributes\":{},\"id\":\"2225\",\"type\":\"ResetTool\"},{\"attributes\":{\"num_minor_ticks\":10},\"id\":\"2214\",\"type\":\"LogTicker\"},{\"attributes\":{},\"id\":\"2205\",\"type\":\"DataRange1d\"},{\"attributes\":{},\"id\":\"2211\",\"type\":\"LogScale\"},{\"attributes\":{\"tools\":[{\"id\":\"2221\"},{\"id\":\"2222\"},{\"id\":\"2223\"},{\"id\":\"2224\"},{\"id\":\"2225\"},{\"id\":\"2226\"}]},\"id\":\"2228\",\"type\":\"Toolbar\"},{\"attributes\":{\"line_color\":\"red\",\"line_width\":3,\"x\":{\"field\":\"x\"},\"y\":{\"field\":\"y\"}},\"id\":\"2236\",\"type\":\"Line\"},{\"attributes\":{\"bottom_units\":\"screen\",\"coordinates\":null,\"fill_alpha\":0.5,\"fill_color\":\"lightgrey\",\"group\":null,\"left_units\":\"screen\",\"level\":\"overlay\",\"line_alpha\":1.0,\"line_color\":\"black\",\"line_dash\":[4,4],\"line_width\":2,\"right_units\":\"screen\",\"syncable\":false,\"top_units\":\"screen\"},\"id\":\"2227\",\"type\":\"BoxAnnotation\"},{\"attributes\":{\"line_alpha\":0.1,\"line_color\":\"red\",\"line_width\":3,\"x\":{\"field\":\"x\"},\"y\":{\"field\":\"y\"}},\"id\":\"2237\",\"type\":\"Line\"},{\"attributes\":{\"ticker\":null},\"id\":\"2321\",\"type\":\"LogTickFormatter\"},{\"attributes\":{},\"id\":\"2322\",\"type\":\"AllLabels\"},{\"attributes\":{},\"id\":\"2209\",\"type\":\"LogScale\"},{\"attributes\":{\"data\":{\"x\":{\"__ndarray__\":\"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\",\"dtype\":\"float32\",\"order\":\"little\",\"shape\":[1169]},\"y\":{\"__ndarray__\":\"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\",\"dtype\":\"float64\",\"order\":\"little\",\"shape\":[1169]}},\"selected\":{\"id\":\"2327\"},\"selection_policy\":{\"id\":\"2326\"}},\"id\":\"2235\",\"type\":\"ColumnDataSource\"},{\"attributes\":{},\"id\":\"2325\",\"type\":\"AllLabels\"},{\"attributes\":{},\"id\":\"2326\",\"type\":\"UnionRenderers\"}],\"root_ids\":[\"2204\"]},\"title\":\"Bokeh Application\",\"version\":\"2.4.3\"}};\n",
       "  const render_items = [{\"docid\":\"81df66e9-f7ef-4ed4-baf7-f21809de7e90\",\"root_ids\":[\"2204\"],\"roots\":{\"2204\":\"5af8f101-dd3e-428d-8bbe-0a185bfbfd1d\"}}];\n",
       "  root.Bokeh.embed.embed_items_notebook(docs_json, render_items);\n",
       "  }\n",
       "  if (root.Bokeh !== undefined) {\n",
       "    embed_document(root);\n",
       "  } else {\n",
       "    let attempts = 0;\n",
       "    const timer = setInterval(function(root) {\n",
       "      if (root.Bokeh !== undefined) {\n",
       "        clearInterval(timer);\n",
       "        embed_document(root);\n",
       "      } else {\n",
       "        attempts++;\n",
       "        if (attempts > 100) {\n",
       "          clearInterval(timer);\n",
       "          console.log(\"Bokeh: ERROR: Unable to run BokehJS code because BokehJS library is missing\");\n",
       "        }\n",
       "      }\n",
       "    }, 10, root)\n",
       "  }\n",
       "})(window);"
      ],
      "application/vnd.bokehjs_exec.v0+json": ""
     },
     "metadata": {
      "application/vnd.bokehjs_exec.v0+json": {
       "id": "2204"
      }
     },
     "output_type": "display_data"
    },
    {
     "name": "stdout",
     "output_type": "stream",
     "text": [
      "Background = 3587.2578 c/s in the energy band [4, 150] keV.\n",
      "Source = 35.7848 c/s in the energy band [4, 150] keV.\n",
      "ECLAIRs : need an exposure time of 2584.09 seconds for a SNR = 30 over the energy band [4, 150] keV.\n"
     ]
    }
   ],
   "source": [
    "model   = \"bknpowerlaw\"\n",
    "norm    = 0.1           # Flux normalisation in ph/cm2/s/keV\n",
    "E_break = 30            # Break energy in keV\n",
    "alpha   = 1.3           # Photon index of the low energy powerlaw\n",
    "beta    = 2.6           # Photon index of the high energy powerlaw\n",
    "n_H     = 2.0           # Density column in 1e21 cm-2\n",
    "calculate_exposure(SNR = 30, instrument = \"ECLAIRs\", Eband = [4, 150])"
   ]
  },
  {
   "cell_type": "markdown",
   "id": "21165817-f706-4e71-8db9-a358d380859b",
   "metadata": {},
   "source": [
    "#### Cutoff Powerlaw"
   ]
  },
  {
   "cell_type": "code",
   "execution_count": 19,
   "id": "505d27bf-e0eb-4dcc-9fa1-fcaaf0bb52f7",
   "metadata": {},
   "outputs": [
    {
     "name": "stdout",
     "output_type": "stream",
     "text": [
      "Emin  =  4 keV\n",
      "Emax  =  100 keV\n",
      "norm  =  0.1000 ph/s/cm2/keV\n",
      "Gamma =  1.7\n",
      "E_cut =  40\n",
      "n_H   =  0 e21 cm-2\n"
     ]
    },
    {
     "data": {
      "text/html": [
       "\n",
       "  <div class=\"bk-root\" id=\"58f452e4-2d19-40e0-be06-16bf48c7a092\" data-root-id=\"2415\"></div>\n"
      ]
     },
     "metadata": {},
     "output_type": "display_data"
    },
    {
     "data": {
      "application/javascript": [
       "(function(root) {\n",
       "  function embed_document(root) {\n",
       "  const docs_json = {\"32e050b3-9e43-437d-9c52-017d2b9d345c\":{\"defs\":[],\"roots\":{\"references\":[{\"attributes\":{\"below\":[{\"id\":\"2424\"}],\"center\":[{\"id\":\"2427\"},{\"id\":\"2431\"}],\"height\":300,\"left\":[{\"id\":\"2428\"}],\"renderers\":[{\"id\":\"2450\"}],\"title\":{\"id\":\"2540\"},\"toolbar\":{\"id\":\"2439\"},\"width\":500,\"x_range\":{\"id\":\"2416\"},\"x_scale\":{\"id\":\"2420\"},\"y_range\":{\"id\":\"2418\"},\"y_scale\":{\"id\":\"2422\"}},\"id\":\"2415\",\"subtype\":\"Figure\",\"type\":\"Plot\"},{\"attributes\":{\"axis_label\":\"ph/cm2/s/keV\",\"coordinates\":null,\"formatter\":{\"id\":\"2543\"},\"group\":null,\"major_label_policy\":{\"id\":\"2544\"},\"ticker\":{\"id\":\"2429\"}},\"id\":\"2428\",\"type\":\"LogAxis\"},{\"attributes\":{},\"id\":\"2433\",\"type\":\"WheelZoomTool\"},{\"attributes\":{},\"id\":\"2422\",\"type\":\"LogScale\"},{\"attributes\":{\"coordinates\":null,\"group\":null},\"id\":\"2540\",\"type\":\"Title\"},{\"attributes\":{},\"id\":\"2418\",\"type\":\"DataRange1d\"},{\"attributes\":{\"overlay\":{\"id\":\"2438\"}},\"id\":\"2434\",\"type\":\"BoxZoomTool\"},{\"attributes\":{\"axis\":{\"id\":\"2428\"},\"coordinates\":null,\"dimension\":1,\"group\":null,\"ticker\":null},\"id\":\"2431\",\"type\":\"Grid\"},{\"attributes\":{\"line_alpha\":0.1,\"line_color\":\"red\",\"line_width\":3,\"x\":{\"field\":\"x\"},\"y\":{\"field\":\"y\"}},\"id\":\"2448\",\"type\":\"Line\"},{\"attributes\":{},\"id\":\"2435\",\"type\":\"SaveTool\"},{\"attributes\":{\"num_minor_ticks\":10},\"id\":\"2429\",\"type\":\"LogTicker\"},{\"attributes\":{},\"id\":\"2549\",\"type\":\"Selection\"},{\"attributes\":{},\"id\":\"2416\",\"type\":\"DataRange1d\"},{\"attributes\":{\"line_color\":\"red\",\"line_width\":3,\"x\":{\"field\":\"x\"},\"y\":{\"field\":\"y\"}},\"id\":\"2447\",\"type\":\"Line\"},{\"attributes\":{\"line_alpha\":0.2,\"line_color\":\"red\",\"line_width\":3,\"x\":{\"field\":\"x\"},\"y\":{\"field\":\"y\"}},\"id\":\"2449\",\"type\":\"Line\"},{\"attributes\":{},\"id\":\"2548\",\"type\":\"UnionRenderers\"},{\"attributes\":{\"source\":{\"id\":\"2446\"}},\"id\":\"2451\",\"type\":\"CDSView\"},{\"attributes\":{\"num_minor_ticks\":10},\"id\":\"2425\",\"type\":\"LogTicker\"},{\"attributes\":{\"coordinates\":null,\"data_source\":{\"id\":\"2446\"},\"glyph\":{\"id\":\"2447\"},\"group\":null,\"hover_glyph\":null,\"muted_glyph\":{\"id\":\"2449\"},\"nonselection_glyph\":{\"id\":\"2448\"},\"view\":{\"id\":\"2451\"}},\"id\":\"2450\",\"type\":\"GlyphRenderer\"},{\"attributes\":{\"axis_label\":\"Energy [keV]\",\"coordinates\":null,\"formatter\":{\"id\":\"2546\"},\"group\":null,\"major_label_policy\":{\"id\":\"2547\"},\"ticker\":{\"id\":\"2425\"}},\"id\":\"2424\",\"type\":\"LogAxis\"},{\"attributes\":{},\"id\":\"2437\",\"type\":\"HelpTool\"},{\"attributes\":{},\"id\":\"2436\",\"type\":\"ResetTool\"},{\"attributes\":{\"ticker\":null},\"id\":\"2543\",\"type\":\"LogTickFormatter\"},{\"attributes\":{\"axis\":{\"id\":\"2424\"},\"coordinates\":null,\"group\":null,\"ticker\":null},\"id\":\"2427\",\"type\":\"Grid\"},{\"attributes\":{\"data\":{\"x\":{\"__ndarray__\":\"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\",\"dtype\":\"float32\",\"order\":\"little\",\"shape\":[769]},\"y\":{\"__ndarray__\":\"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\",\"dtype\":\"float32\",\"order\":\"little\",\"shape\":[769]}},\"selected\":{\"id\":\"2549\"},\"selection_policy\":{\"id\":\"2548\"}},\"id\":\"2446\",\"type\":\"ColumnDataSource\"},{\"attributes\":{},\"id\":\"2544\",\"type\":\"AllLabels\"},{\"attributes\":{},\"id\":\"2420\",\"type\":\"LogScale\"},{\"attributes\":{},\"id\":\"2432\",\"type\":\"PanTool\"},{\"attributes\":{\"ticker\":null},\"id\":\"2546\",\"type\":\"LogTickFormatter\"},{\"attributes\":{\"bottom_units\":\"screen\",\"coordinates\":null,\"fill_alpha\":0.5,\"fill_color\":\"lightgrey\",\"group\":null,\"left_units\":\"screen\",\"level\":\"overlay\",\"line_alpha\":1.0,\"line_color\":\"black\",\"line_dash\":[4,4],\"line_width\":2,\"right_units\":\"screen\",\"syncable\":false,\"top_units\":\"screen\"},\"id\":\"2438\",\"type\":\"BoxAnnotation\"},{\"attributes\":{\"tools\":[{\"id\":\"2432\"},{\"id\":\"2433\"},{\"id\":\"2434\"},{\"id\":\"2435\"},{\"id\":\"2436\"},{\"id\":\"2437\"}]},\"id\":\"2439\",\"type\":\"Toolbar\"},{\"attributes\":{},\"id\":\"2547\",\"type\":\"AllLabels\"}],\"root_ids\":[\"2415\"]},\"title\":\"Bokeh Application\",\"version\":\"2.4.3\"}};\n",
       "  const render_items = [{\"docid\":\"32e050b3-9e43-437d-9c52-017d2b9d345c\",\"root_ids\":[\"2415\"],\"roots\":{\"2415\":\"58f452e4-2d19-40e0-be06-16bf48c7a092\"}}];\n",
       "  root.Bokeh.embed.embed_items_notebook(docs_json, render_items);\n",
       "  }\n",
       "  if (root.Bokeh !== undefined) {\n",
       "    embed_document(root);\n",
       "  } else {\n",
       "    let attempts = 0;\n",
       "    const timer = setInterval(function(root) {\n",
       "      if (root.Bokeh !== undefined) {\n",
       "        clearInterval(timer);\n",
       "        embed_document(root);\n",
       "      } else {\n",
       "        attempts++;\n",
       "        if (attempts > 100) {\n",
       "          clearInterval(timer);\n",
       "          console.log(\"Bokeh: ERROR: Unable to run BokehJS code because BokehJS library is missing\");\n",
       "        }\n",
       "      }\n",
       "    }, 10, root)\n",
       "  }\n",
       "})(window);"
      ],
      "application/vnd.bokehjs_exec.v0+json": ""
     },
     "metadata": {
      "application/vnd.bokehjs_exec.v0+json": {
       "id": "2415"
      }
     },
     "output_type": "display_data"
    },
    {
     "name": "stdout",
     "output_type": "stream",
     "text": [
      "Background = 3569.5199 c/s in the energy band [4, 100] keV.\n",
      "Source = 9.4439 c/s in the energy band [4, 100] keV.\n",
      "ECLAIRs : need an exposure time of 4028.72 seconds for a SNR = 10 over the energy band [4, 100] keV.\n"
     ]
    }
   ],
   "source": [
    "model = \"cutoffpl\"\n",
    "norm  = 0.1         # Flux normalisation in ph/cm2/s/keV\n",
    "E_cut = 40          # Energy cutoff in keV\n",
    "Gamma = 1.7         # Photon index\n",
    "n_H   = 0           # Density column in 1e21 cm-2\n",
    "calculate_exposure(SNR = 10, instrument = \"ECLAIRs\", Eband = [4, 100])"
   ]
  },
  {
   "cell_type": "markdown",
   "id": "33f7465f",
   "metadata": {},
   "source": [
    "#### Black Body"
   ]
  },
  {
   "cell_type": "code",
   "execution_count": 20,
   "id": "67284567-ef58-419a-9291-3bb2aaaec508",
   "metadata": {},
   "outputs": [
    {
     "name": "stdout",
     "output_type": "stream",
     "text": [
      "Emin  =  0.2 keV\n",
      "Emax  =  10 keV\n",
      "norm  =  1.0000 ph/s/cm2/keV\n",
      "Gamma =  1.7\n",
      "E_cut =  40\n",
      "n_H   =  0.0 e21 cm-2\n"
     ]
    },
    {
     "data": {
      "text/html": [
       "\n",
       "  <div class=\"bk-root\" id=\"6dbb1866-0697-4ffe-9bf0-bb5d04f6834f\" data-root-id=\"2637\"></div>\n"
      ]
     },
     "metadata": {},
     "output_type": "display_data"
    },
    {
     "data": {
      "application/javascript": [
       "(function(root) {\n",
       "  function embed_document(root) {\n",
       "  const docs_json = {\"4a2c7fe3-d8da-46d1-a380-6d3b5873f36a\":{\"defs\":[],\"roots\":{\"references\":[{\"attributes\":{\"below\":[{\"id\":\"2646\"}],\"center\":[{\"id\":\"2649\"},{\"id\":\"2653\"}],\"height\":300,\"left\":[{\"id\":\"2650\"}],\"renderers\":[{\"id\":\"2672\"}],\"title\":{\"id\":\"2773\"},\"toolbar\":{\"id\":\"2661\"},\"width\":500,\"x_range\":{\"id\":\"2638\"},\"x_scale\":{\"id\":\"2642\"},\"y_range\":{\"id\":\"2640\"},\"y_scale\":{\"id\":\"2644\"}},\"id\":\"2637\",\"subtype\":\"Figure\",\"type\":\"Plot\"},{\"attributes\":{},\"id\":\"2659\",\"type\":\"HelpTool\"},{\"attributes\":{\"tools\":[{\"id\":\"2654\"},{\"id\":\"2655\"},{\"id\":\"2656\"},{\"id\":\"2657\"},{\"id\":\"2658\"},{\"id\":\"2659\"}]},\"id\":\"2661\",\"type\":\"Toolbar\"},{\"attributes\":{},\"id\":\"2642\",\"type\":\"LogScale\"},{\"attributes\":{\"coordinates\":null,\"group\":null},\"id\":\"2773\",\"type\":\"Title\"},{\"attributes\":{},\"id\":\"2640\",\"type\":\"DataRange1d\"},{\"attributes\":{},\"id\":\"2644\",\"type\":\"LogScale\"},{\"attributes\":{\"line_alpha\":0.1,\"line_color\":\"red\",\"line_width\":3,\"x\":{\"field\":\"x\"},\"y\":{\"field\":\"y\"}},\"id\":\"2670\",\"type\":\"Line\"},{\"attributes\":{\"bottom_units\":\"screen\",\"coordinates\":null,\"fill_alpha\":0.5,\"fill_color\":\"lightgrey\",\"group\":null,\"left_units\":\"screen\",\"level\":\"overlay\",\"line_alpha\":1.0,\"line_color\":\"black\",\"line_dash\":[4,4],\"line_width\":2,\"right_units\":\"screen\",\"syncable\":false,\"top_units\":\"screen\"},\"id\":\"2660\",\"type\":\"BoxAnnotation\"},{\"attributes\":{\"ticker\":null},\"id\":\"2779\",\"type\":\"LogTickFormatter\"},{\"attributes\":{\"line_color\":\"red\",\"line_width\":3,\"x\":{\"field\":\"x\"},\"y\":{\"field\":\"y\"}},\"id\":\"2669\",\"type\":\"Line\"},{\"attributes\":{\"coordinates\":null,\"data_source\":{\"id\":\"2668\"},\"glyph\":{\"id\":\"2669\"},\"group\":null,\"hover_glyph\":null,\"muted_glyph\":{\"id\":\"2671\"},\"nonselection_glyph\":{\"id\":\"2670\"},\"view\":{\"id\":\"2673\"}},\"id\":\"2672\",\"type\":\"GlyphRenderer\"},{\"attributes\":{},\"id\":\"2655\",\"type\":\"WheelZoomTool\"},{\"attributes\":{},\"id\":\"2654\",\"type\":\"PanTool\"},{\"attributes\":{},\"id\":\"2657\",\"type\":\"SaveTool\"},{\"attributes\":{\"axis_label\":\"ph/cm2/s/keV\",\"coordinates\":null,\"formatter\":{\"id\":\"2776\"},\"group\":null,\"major_label_policy\":{\"id\":\"2777\"},\"ticker\":{\"id\":\"2651\"}},\"id\":\"2650\",\"type\":\"LogAxis\"},{\"attributes\":{\"num_minor_ticks\":10},\"id\":\"2647\",\"type\":\"LogTicker\"},{\"attributes\":{},\"id\":\"2780\",\"type\":\"AllLabels\"},{\"attributes\":{\"data\":{\"x\":{\"__ndarray__\":\"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\",\"dtype\":\"float32\",\"order\":\"little\",\"shape\":[1014]},\"y\":{\"__ndarray__\":\"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\",\"dtype\":\"float32\",\"order\":\"little\",\"shape\":[1014]}},\"selected\":{\"id\":\"2782\"},\"selection_policy\":{\"id\":\"2781\"}},\"id\":\"2668\",\"type\":\"ColumnDataSource\"},{\"attributes\":{},\"id\":\"2781\",\"type\":\"UnionRenderers\"},{\"attributes\":{\"axis_label\":\"Energy [keV]\",\"coordinates\":null,\"formatter\":{\"id\":\"2779\"},\"group\":null,\"major_label_policy\":{\"id\":\"2780\"},\"ticker\":{\"id\":\"2647\"}},\"id\":\"2646\",\"type\":\"LogAxis\"},{\"attributes\":{\"axis\":{\"id\":\"2646\"},\"coordinates\":null,\"group\":null,\"ticker\":null},\"id\":\"2649\",\"type\":\"Grid\"},{\"attributes\":{},\"id\":\"2782\",\"type\":\"Selection\"},{\"attributes\":{\"ticker\":null},\"id\":\"2776\",\"type\":\"LogTickFormatter\"},{\"attributes\":{\"line_alpha\":0.2,\"line_color\":\"red\",\"line_width\":3,\"x\":{\"field\":\"x\"},\"y\":{\"field\":\"y\"}},\"id\":\"2671\",\"type\":\"Line\"},{\"attributes\":{\"overlay\":{\"id\":\"2660\"}},\"id\":\"2656\",\"type\":\"BoxZoomTool\"},{\"attributes\":{\"source\":{\"id\":\"2668\"}},\"id\":\"2673\",\"type\":\"CDSView\"},{\"attributes\":{},\"id\":\"2658\",\"type\":\"ResetTool\"},{\"attributes\":{\"num_minor_ticks\":10},\"id\":\"2651\",\"type\":\"LogTicker\"},{\"attributes\":{},\"id\":\"2638\",\"type\":\"DataRange1d\"},{\"attributes\":{\"axis\":{\"id\":\"2650\"},\"coordinates\":null,\"dimension\":1,\"group\":null,\"ticker\":null},\"id\":\"2653\",\"type\":\"Grid\"},{\"attributes\":{},\"id\":\"2777\",\"type\":\"AllLabels\"}],\"root_ids\":[\"2637\"]},\"title\":\"Bokeh Application\",\"version\":\"2.4.3\"}};\n",
       "  const render_items = [{\"docid\":\"4a2c7fe3-d8da-46d1-a380-6d3b5873f36a\",\"root_ids\":[\"2637\"],\"roots\":{\"2637\":\"6dbb1866-0697-4ffe-9bf0-bb5d04f6834f\"}}];\n",
       "  root.Bokeh.embed.embed_items_notebook(docs_json, render_items);\n",
       "  }\n",
       "  if (root.Bokeh !== undefined) {\n",
       "    embed_document(root);\n",
       "  } else {\n",
       "    let attempts = 0;\n",
       "    const timer = setInterval(function(root) {\n",
       "      if (root.Bokeh !== undefined) {\n",
       "        clearInterval(timer);\n",
       "        embed_document(root);\n",
       "      } else {\n",
       "        attempts++;\n",
       "        if (attempts > 100) {\n",
       "          clearInterval(timer);\n",
       "          console.log(\"Bokeh: ERROR: Unable to run BokehJS code because BokehJS library is missing\");\n",
       "        }\n",
       "      }\n",
       "    }, 10, root)\n",
       "  }\n",
       "})(window);"
      ],
      "application/vnd.bokehjs_exec.v0+json": ""
     },
     "metadata": {
      "application/vnd.bokehjs_exec.v0+json": {
       "id": "2637"
      }
     },
     "output_type": "display_data"
    },
    {
     "name": "stdout",
     "output_type": "stream",
     "text": [
      "Background = 0.2285 c/s in the energy band [0.2, 10] keV.\n",
      "Source = 1130.8116 c/s in the energy band [0.2, 10] keV.\n",
      "MXT : need an exposure time of 0.04 seconds for a SNR = 7 over the energy band [0.2, 10] keV.\n"
     ]
    }
   ],
   "source": [
    "model = \"bbody\"\n",
    "norm = 1.\n",
    "n_H = 0.\n",
    "kT = 0.5\n",
    "calculate_exposure(SNR = 7, instrument = \"MXT\", Eband = [0.2, 10])"
   ]
  },
  {
   "cell_type": "code",
   "execution_count": null,
   "id": "0db0d1c1",
   "metadata": {},
   "outputs": [],
   "source": []
  },
  {
   "cell_type": "code",
   "execution_count": null,
   "id": "4aac043d",
   "metadata": {},
   "outputs": [],
   "source": []
  },
  {
   "cell_type": "code",
   "execution_count": null,
   "id": "d55e76ad",
   "metadata": {},
   "outputs": [],
   "source": []
  },
  {
   "cell_type": "code",
   "execution_count": null,
   "id": "86f31a03",
   "metadata": {},
   "outputs": [],
   "source": []
  }
 ],
 "metadata": {
  "celltoolbar": "Éditer les Méta-Données",
  "kernelspec": {
   "display_name": "Python 3 (ipykernel)",
   "language": "python",
   "name": "python3"
  },
  "language_info": {
   "codemirror_mode": {
    "name": "ipython",
    "version": 3
   },
   "file_extension": ".py",
   "mimetype": "text/x-python",
   "name": "python",
   "nbconvert_exporter": "python",
   "pygments_lexer": "ipython3",
   "version": "3.9.13"
  }
 },
 "nbformat": 4,
 "nbformat_minor": 5
}
