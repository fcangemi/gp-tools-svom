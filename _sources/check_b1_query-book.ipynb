{
 "cells": [
  {
   "cell_type": "markdown",
   "id": "4d4d773c-c0fb-4e40-bc75-174023ca90d8",
   "metadata": {},
   "source": [
    "# Check B1 law"
   ]
  },
  {
   "cell_type": "markdown",
   "id": "b5d34601-4b4b-4941-8cca-336362b9c2b7",
   "metadata": {},
   "source": [
    "With this notebook, you can check whether a source is in B1 law or not.\n",
    "The code uses the source name to search its coordinates in the SIMBAD catalog. If the source is not found, the user can enter the coordinates manually."
   ]
  },
  {
   "cell_type": "code",
   "execution_count": 1,
   "id": "4c081b24-4d37-49da-94f1-ecc201c5c40d",
   "metadata": {
    "tags": [
     "hide-cell",
     "thebe-init"
    ]
   },
   "outputs": [
    {
     "name": "stdout",
     "output_type": "stream",
     "text": [
      "--2022-11-30 14:05:31--  https://raw.githubusercontent.com/fcangemi/gp-tools-svom/main/B1_law.txt\n",
      "Resolving raw.githubusercontent.com (raw.githubusercontent.com)... 185.199.110.133, 185.199.109.133, 185.199.108.133, ...\n",
      "Connecting to raw.githubusercontent.com (raw.githubusercontent.com)|185.199.110.133|:443... connected.\n",
      "HTTP request sent, awaiting response... 200 OK\n",
      "Length: 13616 (13K) [text/plain]\n",
      "Saving to: 'B1_law.txt.5'\n",
      "\n",
      "B1_law.txt.5        100%[===================>]  13.30K  --.-KB/s    in 0s      \n",
      "\n",
      "2022-11-30 14:05:31 (49.2 MB/s) - 'B1_law.txt.5' saved [13616/13616]\n",
      "\n",
      "Requirement already satisfied: astroquery in /Users/fcangemi/opt/anaconda3/lib/python3.9/site-packages (0.4.6)\n",
      "Requirement already satisfied: numpy>=1.16 in /Users/fcangemi/opt/anaconda3/lib/python3.9/site-packages (from astroquery) (1.21.5)\n",
      "Requirement already satisfied: astropy>=4.0 in /Users/fcangemi/opt/anaconda3/lib/python3.9/site-packages (from astroquery) (5.1)\n",
      "Requirement already satisfied: requests>=2.4.3 in /Users/fcangemi/opt/anaconda3/lib/python3.9/site-packages (from astroquery) (2.28.1)\n",
      "Requirement already satisfied: beautifulsoup4>=4.3.2 in /Users/fcangemi/opt/anaconda3/lib/python3.9/site-packages (from astroquery) (4.11.1)\n",
      "Requirement already satisfied: html5lib>=0.999 in /Users/fcangemi/opt/anaconda3/lib/python3.9/site-packages (from astroquery) (1.1)\n",
      "Requirement already satisfied: keyring>=4.0 in /Users/fcangemi/opt/anaconda3/lib/python3.9/site-packages (from astroquery) (23.4.0)\n",
      "Requirement already satisfied: pyvo>=1.1 in /Users/fcangemi/opt/anaconda3/lib/python3.9/site-packages (from astroquery) (1.4)\n",
      "Requirement already satisfied: PyYAML>=3.13 in /Users/fcangemi/opt/anaconda3/lib/python3.9/site-packages (from astropy>=4.0->astroquery) (6.0)\n",
      "Requirement already satisfied: pyerfa>=2.0 in /Users/fcangemi/opt/anaconda3/lib/python3.9/site-packages (from astropy>=4.0->astroquery) (2.0.0)\n",
      "Requirement already satisfied: packaging>=19.0 in /Users/fcangemi/opt/anaconda3/lib/python3.9/site-packages (from astropy>=4.0->astroquery) (21.3)\n",
      "Requirement already satisfied: soupsieve>1.2 in /Users/fcangemi/opt/anaconda3/lib/python3.9/site-packages (from beautifulsoup4>=4.3.2->astroquery) (2.3.1)\n",
      "Requirement already satisfied: webencodings in /Users/fcangemi/opt/anaconda3/lib/python3.9/site-packages (from html5lib>=0.999->astroquery) (0.5.1)\n",
      "Requirement already satisfied: six>=1.9 in /Users/fcangemi/opt/anaconda3/lib/python3.9/site-packages (from html5lib>=0.999->astroquery) (1.16.0)\n",
      "Requirement already satisfied: importlib-metadata>=3.6 in /Users/fcangemi/opt/anaconda3/lib/python3.9/site-packages (from keyring>=4.0->astroquery) (4.11.3)\n",
      "Requirement already satisfied: charset-normalizer<3,>=2 in /Users/fcangemi/opt/anaconda3/lib/python3.9/site-packages (from requests>=2.4.3->astroquery) (2.0.4)\n",
      "Requirement already satisfied: idna<4,>=2.5 in /Users/fcangemi/opt/anaconda3/lib/python3.9/site-packages (from requests>=2.4.3->astroquery) (3.3)\n",
      "Requirement already satisfied: urllib3<1.27,>=1.21.1 in /Users/fcangemi/opt/anaconda3/lib/python3.9/site-packages (from requests>=2.4.3->astroquery) (1.26.11)\n",
      "Requirement already satisfied: certifi>=2017.4.17 in /Users/fcangemi/opt/anaconda3/lib/python3.9/site-packages (from requests>=2.4.3->astroquery) (2022.9.24)\n",
      "Requirement already satisfied: zipp>=0.5 in /Users/fcangemi/opt/anaconda3/lib/python3.9/site-packages (from importlib-metadata>=3.6->keyring>=4.0->astroquery) (3.8.0)\n",
      "Requirement already satisfied: pyparsing!=3.0.5,>=2.0.2 in /Users/fcangemi/opt/anaconda3/lib/python3.9/site-packages (from packaging>=19.0->astropy>=4.0->astroquery) (3.0.9)\n"
     ]
    }
   ],
   "source": [
    "#!wget https://raw.githubusercontent.com/fcangemi/gp-tools-svom/main/B1_law.txt\n",
    "!pip install astroquery"
   ]
  },
  {
   "cell_type": "code",
   "execution_count": 2,
   "id": "6f3c871d-3cb0-419c-bba4-20e74c74ca51",
   "metadata": {
    "tags": [
     "hide-cell",
     "thebe-init"
    ]
   },
   "outputs": [],
   "source": [
    "from astroquery.simbad import Simbad\n",
    "from astroquery.vizier import Vizier\n",
    "from astroquery.ipac.ned import Ned\n",
    "from astropy.coordinates import SkyCoord, Galactic\n",
    "import astropy.units as u\n",
    "import matplotlib.pyplot as plt\n",
    "import numpy as np\n",
    "import warnings\n",
    "warnings.filterwarnings('ignore')"
   ]
  },
  {
   "cell_type": "code",
   "execution_count": 3,
   "id": "66dce995-eee9-4f61-b7c2-63b3129d00a0",
   "metadata": {
    "tags": [
     "hide-cell",
     "thebe-init"
    ]
   },
   "outputs": [],
   "source": [
    "def which_source(source):\n",
    "    result_table = Simbad.query_object(source)\n",
    "    if(result_table == None):\n",
    "        print(\"Unable to find\", source.rstrip(\"\\n\"), \", please enter the source coordinates:\")\n",
    "        ra = float(input(\"ra (degrees):\"))\n",
    "        dec = float(input(\"dec (degrees):\"))\n",
    "    else:\n",
    "        ra = result_table[\"RA\"]\n",
    "        dec = result_table[\"DEC\"]\n",
    "    return source, ra, dec\n",
    "\n",
    "def read_B1():\n",
    "    b1_law = np.genfromtxt(\"B1_law.txt\", unpack = True)\n",
    "    b1_ras = b1_law[1]\n",
    "    b1_decs = b1_law[2]\n",
    "    return b1_ras, b1_decs\n",
    "\n",
    "def check_inB1_name(source):\n",
    "    source, ra_source, dec_source = which_source(source)\n",
    "    b1_ras, b1_decs = read_B1()\n",
    "    c_source = SkyCoord(ra_source, dec_source, frame = \"icrs\", unit = (u.hourangle, u.deg))\n",
    "    count = 0\n",
    "    all_sep = []\n",
    "    for b1_ra, b1_dec in zip(b1_ras, b1_decs):\n",
    "        c_b1 = SkyCoord(b1_ra, b1_dec, frame = \"icrs\", unit = \"deg\")\n",
    "        sep = c_source.separation(c_b1)\n",
    "        all_sep.append(sep.value)\n",
    "        \n",
    "        if sep.value <= 10:\n",
    "            count += 1\n",
    "        else:\n",
    "            continue\n",
    "\n",
    "    if count == 0:\n",
    "        print(source.rstrip('\\n'), \"is not in B1 law, minimal separation =\", min(all_sep)*u.degree)\n",
    "    else:\n",
    "        print(source.rstrip('\\n'), \"is in B1 law\")\n",
    "\n",
    "def check_inB1_list(list_of_sources_file):\n",
    "    list_of_source = open(list_of_sources_file, \"r\")\n",
    "    \n",
    "    for source in list_of_source:\n",
    "        check_inB1_name(source)"
   ]
  },
  {
   "cell_type": "markdown",
   "id": "0c93d229-7c75-44e3-b8e3-f4bd3f23bc5d",
   "metadata": {
    "tags": []
   },
   "source": [
    "## Using the source name"
   ]
  },
  {
   "attachments": {},
   "cell_type": "markdown",
   "id": "6c9e8543",
   "metadata": {},
   "source": [
    "You can directly check by writing the source name. Click on the rocket at the top of this page, and then click on the \"Live mode\" button to edit the cell below. Here an example for Cygnus X-1; try with your source!"
   ]
  },
  {
   "cell_type": "code",
   "execution_count": 4,
   "id": "71a6109f-3fe9-4206-ac63-ad26f6770799",
   "metadata": {},
   "outputs": [
    {
     "name": "stdout",
     "output_type": "stream",
     "text": [
      "Cygnus X-1 is not in B1 law, minimal separation = [62.11449208] deg\n"
     ]
    }
   ],
   "source": [
    "check_inB1_name(\"Cygnus X-1\")"
   ]
  },
  {
   "cell_type": "markdown",
   "id": "dbb3851c",
   "metadata": {},
   "source": [
    "## Using a list of sources"
   ]
  },
  {
   "cell_type": "markdown",
   "id": "4ec9124c",
   "metadata": {},
   "source": []
  },
  {
   "cell_type": "code",
   "execution_count": null,
   "id": "8106895c",
   "metadata": {},
   "outputs": [],
   "source": []
  }
 ],
 "metadata": {
  "celltoolbar": "Aucun(e)",
  "kernelspec": {
   "display_name": "Python 3 (ipykernel)",
   "language": "python",
   "name": "python3"
  },
  "language_info": {
   "codemirror_mode": {
    "name": "ipython",
    "version": 3
   },
   "file_extension": ".py",
   "mimetype": "text/x-python",
   "name": "python",
   "nbconvert_exporter": "python",
   "pygments_lexer": "ipython3",
   "version": "3.9.13"
  }
 },
 "nbformat": 4,
 "nbformat_minor": 5
}
